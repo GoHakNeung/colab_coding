{
 "cells": [
  {
   "cell_type": "markdown",
   "metadata": {},
   "source": [
    "평가 도구가 필요하다.  \n",
    "평가 도구는 문제 클래스 내에 정답 함수를 정의한다.  \n",
    "입력 값은 랜덤으로 넣는다.  \n",
    "정답 유무를 확인할 때 두 함수를 호출한 뒤, 같은 입력값을 넣는다. 그리고 return값을 비교한다.  \n",
    "\n",
    "다시 말하면, return 값이 있는 함수만 비교할 수 있다. "
   ]
  },
  {
   "cell_type": "code",
   "execution_count": 21,
   "metadata": {},
   "outputs": [],
   "source": [
    "import random\n",
    "\n",
    "class function_problem() : \n",
    "    def check(func) : \n",
    "        _input = [random.randint(0,100), random.randint(0,100)]\n",
    "        _correct = int()\n",
    "        def correct_function(a, b) : \n",
    "            _correct = a + b\n",
    "            return _correct\n",
    "\n",
    "        if func(_input[0], _input[1]) == correct_function(_input[0], _input[1]) : \n",
    "            print('정답입니다.')\n",
    "            print(_input)\n",
    "            function_problem.solution()\n",
    "        else : \n",
    "            print('오답입니다.')\n",
    "            print(_input)\n",
    "\n",
    "\n",
    "    def hint() : \n",
    "        print('함수 입력값은 2가지를 넣으세요. \\n두 입력값을 더하세요.')\n",
    "\n",
    "    def solution() : \n",
    "        print('def calculate(a,b) :\\n\\t result a + b\\n\\t return result')\n",
    "        \n",
    "        "
   ]
  },
  {
   "cell_type": "code",
   "execution_count": 22,
   "metadata": {},
   "outputs": [],
   "source": [
    "def calculate1(a,b) : \n",
    "    result = a+b\n",
    "    return result\n"
   ]
  },
  {
   "cell_type": "code",
   "execution_count": 23,
   "metadata": {},
   "outputs": [],
   "source": [
    "def calculate2(a,b) : \n",
    "    result = a*b\n",
    "    return result\n"
   ]
  },
  {
   "cell_type": "code",
   "execution_count": 24,
   "metadata": {},
   "outputs": [
    {
     "name": "stdout",
     "output_type": "stream",
     "text": [
      "정답입니다.\n",
      "[75, 57]\n",
      "def calculate(a,b) :\n",
      "\t result a + b\n",
      "\t return result\n"
     ]
    }
   ],
   "source": [
    "question5 = function_problem\n",
    "question5.check(calculate1)"
   ]
  },
  {
   "cell_type": "code",
   "execution_count": null,
   "metadata": {},
   "outputs": [],
   "source": []
  }
 ],
 "metadata": {
  "interpreter": {
   "hash": "5589c2b33b270ee4df73439da02860ce83866d7a03700c853c793f3e92085ed7"
  },
  "kernelspec": {
   "display_name": "Python 3.10.2 64-bit (windows store)",
   "language": "python",
   "name": "python3"
  },
  "language_info": {
   "codemirror_mode": {
    "name": "ipython",
    "version": 3
   },
   "file_extension": ".py",
   "mimetype": "text/x-python",
   "name": "python",
   "nbconvert_exporter": "python",
   "pygments_lexer": "ipython3",
   "version": "3.10.2"
  },
  "orig_nbformat": 4
 },
 "nbformat": 4,
 "nbformat_minor": 2
}
