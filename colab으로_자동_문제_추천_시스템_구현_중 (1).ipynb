{
  "cells": [
    {
      "cell_type": "code",
      "execution_count": 1,
      "metadata": {
        "colab": {
          "base_uri": "https://localhost:8080/"
        },
        "id": "jbVdjoe0Hci0",
        "outputId": "e21abf93-4fc5-4206-f9ac-d06c0d05e159"
      },
      "outputs": [
        {
          "output_type": "stream",
          "name": "stdout",
          "text": [
            "Cloning into 'jupyter_judge'...\n",
            "remote: Enumerating objects: 1118, done.\u001b[K\n",
            "remote: Counting objects: 100% (576/576), done.\u001b[K\n",
            "remote: Compressing objects: 100% (217/217), done.\u001b[K\n",
            "remote: Total 1118 (delta 385), reused 537 (delta 357), pack-reused 542\u001b[K\n",
            "Receiving objects: 100% (1118/1118), 5.06 MiB | 9.99 MiB/s, done.\n",
            "Resolving deltas: 100% (620/620), done.\n",
            "이름을 입력해주세요.ㅁㅇㄴㄹㄴㅇㄻ\n",
            "지금부터 공부를 시작합니다.\n"
          ]
        }
      ],
      "source": [
        "#초기 설정 코드를 실행해주세요\n",
        "#이름 입력칸에 이름을 적어주면 초기 설정이 완료됩니다.\n",
        "!git clone https://github.com/GoHakNeung/jupyter_judge.git\n",
        "%run /content/jupyter_judge/code_check.py"
      ]
    },
    {
      "cell_type": "code",
      "source": [
        "Question(question_6302)"
      ],
      "metadata": {
        "colab": {
          "base_uri": "https://localhost:8080/",
          "height": 379
        },
        "id": "xbpHBWAALlEZ",
        "outputId": "d19f9083-5700-4f98-933c-70e849183758"
      },
      "execution_count": 2,
      "outputs": [
        {
          "output_type": "display_data",
          "data": {
            "text/plain": [
              "<IPython.core.display.HTML object>"
            ],
            "text/html": [
              "<h2 style = \"background-color:yellow; \">문제 설명</h2>\n",
              "<p>숫자와 글자를 순서대로 입력받습니다.</p>\n",
              "<p>입력받은 <span style = \"background-color:\t#E0E0E0;\">십만 자리 숫자</span>를 입력받은 <span style = \"background-color:\t#E0E0E0;\">글자</span>에 맞게 올림 또는 내림하여 만 자리까지 나타내는 프로그램을 만들어봅시다.</p>\n",
              "<HR>\n",
              "<h2> 입력\n",
              "</h2>\n",
              "<p>첫째 줄에 십만 자리 숫자가 입력되고, 둘째 줄에 올림 또는 내림이 입력됩니다.</p>\n",
              "<h2> 출력\n",
              "</h2>\n",
              "<p>올림 또는 내림하여 만의 자리 까지 나타낸 수를 출력합니다.</p>\n",
              "<HR>\n",
              "<div style = \"float:left;width:50%\">\n",
              "<h2> 입력 예시 </h2>\n",
              "<p>123421</p>\n",
              "<p>올림</p>\n",
              "</div>\n",
              "<div style = \"float:right;width:50%\">\n",
              "<h2> 출력 예시 </h2>\n",
              "<p>130000</p>\n",
              "</div>\n"
            ]
          },
          "metadata": {}
        }
      ]
    },
    {
      "cell_type": "code",
      "source": [
        "%%writefile _6302.py\n",
        "a = int(input())\n",
        "b = input()\n",
        "\n",
        "if b == '올림' :\n",
        "  print((a//10000 +1) * 10000)\n",
        "elif b == '내림' :\n",
        "  print(a//10000 * 10000)"
      ],
      "metadata": {
        "colab": {
          "base_uri": "https://localhost:8080/"
        },
        "id": "zUxN2I00Lr-n",
        "outputId": "25ae1e9b-f677-4287-a8f9-d150e5eaa244"
      },
      "execution_count": 3,
      "outputs": [
        {
          "output_type": "stream",
          "name": "stdout",
          "text": [
            "Writing _6302.py\n"
          ]
        }
      ]
    },
    {
      "cell_type": "code",
      "source": [
        "code_check('_6302.py')"
      ],
      "metadata": {
        "colab": {
          "base_uri": "https://localhost:8080/",
          "height": 389
        },
        "id": "mxK7ROOVLr8N",
        "outputId": "91bab606-09d5-46c7-c352-453e928d706c"
      },
      "execution_count": 4,
      "outputs": [
        {
          "output_type": "display_data",
          "data": {
            "text/plain": [
              "<IPython.core.display.HTML object>"
            ],
            "text/html": [
              "<div id = \"result\">"
            ]
          },
          "metadata": {}
        },
        {
          "output_type": "display_data",
          "data": {
            "text/plain": [
              "<IPython.core.display.HTML object>"
            ],
            "text/html": [
              "<h2 style = \"background-color:yellow\">결과 확인</h2>"
            ]
          },
          "metadata": {}
        },
        {
          "output_type": "display_data",
          "data": {
            "text/plain": [
              "<IPython.core.display.HTML object>"
            ],
            "text/html": [
              "<li>입력한 데이터 : </li>"
            ]
          },
          "metadata": {}
        },
        {
          "output_type": "stream",
          "name": "stdout",
          "text": [
            "781233\n",
            "내림\n"
          ]
        },
        {
          "output_type": "display_data",
          "data": {
            "text/plain": [
              "<IPython.core.display.HTML object>"
            ],
            "text/html": [
              "<li>처리한 데이터 : </li>"
            ]
          },
          "metadata": {}
        },
        {
          "output_type": "stream",
          "name": "stdout",
          "text": [
            "\u001b[48;2;255;255;0m780000\u001b[0m \u001b[38;2;0;255;0mO\u001b[0m\n"
          ]
        },
        {
          "output_type": "display_data",
          "data": {
            "text/plain": [
              "<IPython.core.display.HTML object>"
            ],
            "text/html": [
              "<HR>"
            ]
          },
          "metadata": {}
        },
        {
          "output_type": "display_data",
          "data": {
            "text/plain": [
              "<IPython.core.display.HTML object>"
            ],
            "text/html": [
              "<li>입력한 데이터 : </li>"
            ]
          },
          "metadata": {}
        },
        {
          "output_type": "stream",
          "name": "stdout",
          "text": [
            "312543\n",
            "올림\n"
          ]
        },
        {
          "output_type": "display_data",
          "data": {
            "text/plain": [
              "<IPython.core.display.HTML object>"
            ],
            "text/html": [
              "<li>처리한 데이터 : </li>"
            ]
          },
          "metadata": {}
        },
        {
          "output_type": "stream",
          "name": "stdout",
          "text": [
            "\u001b[48;2;255;255;0m320000\u001b[0m \u001b[38;2;0;255;0mO\u001b[0m\n"
          ]
        },
        {
          "output_type": "display_data",
          "data": {
            "text/plain": [
              "<IPython.core.display.HTML object>"
            ],
            "text/html": [
              "<HR>"
            ]
          },
          "metadata": {}
        },
        {
          "output_type": "display_data",
          "data": {
            "text/plain": [
              "<IPython.core.display.HTML object>"
            ],
            "text/html": [
              "<li>입력한 데이터 : </li>"
            ]
          },
          "metadata": {}
        },
        {
          "output_type": "stream",
          "name": "stdout",
          "text": [
            "465563\n",
            "내림\n"
          ]
        },
        {
          "output_type": "display_data",
          "data": {
            "text/plain": [
              "<IPython.core.display.HTML object>"
            ],
            "text/html": [
              "<li>처리한 데이터 : </li>"
            ]
          },
          "metadata": {}
        },
        {
          "output_type": "stream",
          "name": "stdout",
          "text": [
            "\u001b[48;2;255;255;0m460000\u001b[0m \u001b[38;2;0;255;0mO\u001b[0m\n"
          ]
        },
        {
          "output_type": "display_data",
          "data": {
            "text/plain": [
              "<IPython.core.display.HTML object>"
            ],
            "text/html": [
              "<HR>"
            ]
          },
          "metadata": {}
        },
        {
          "output_type": "stream",
          "name": "stdout",
          "text": [
            "\u001b[38;2;0;255;0m정답입니다.\u001b[0m\n"
          ]
        },
        {
          "output_type": "display_data",
          "data": {
            "text/plain": [
              "<IPython.core.display.HTML object>"
            ],
            "text/html": [
              "</div>"
            ]
          },
          "metadata": {}
        }
      ]
    },
    {
      "cell_type": "code",
      "execution_count": null,
      "metadata": {
        "colab": {
          "base_uri": "https://localhost:8080/",
          "height": 434
        },
        "id": "UBZSEevXHt6c",
        "outputId": "99a96c10-adca-4c3b-99c6-f4054652b727"
      },
      "outputs": [
        {
          "output_type": "display_data",
          "data": {
            "text/plain": [
              "<IPython.core.display.HTML object>"
            ],
            "text/html": [
              "<h1 style = \"background-color:yellow; \">문제 설명</h1>\n",
              "<p>아래 도형에서 대각선 수를 출력해봅시다.</p>\n",
              "<svg width = \"200\" height = \"100\"><polygon points = \"100,5 160,40 130,80 70,80 40,40\", fill = \"#FFFFFF\", stroke = \"#000000\", stroke-width = \"4\"></svg>\n",
              "<HR>\n",
              "<h2>입력</h2>\n",
              "<p>없음</p>\n",
              "<h2>출력</h2>\n",
              "<p>도형이 가지고 있는 대각선 숫자를 출력합니다.</p>\n",
              "<HR>\n",
              "<div style = \"float:left;width:50%\">\n",
              "<h2> 입력 예시 </h2>\n",
              "<p>없음</p>\n",
              "</div>\n",
              "<div style = \"float:right;width:50%\">\n",
              "<h2> 출력 예시 </h2>\n",
              "<p>대각선 숫자</p>\n",
              "</div>\n"
            ]
          },
          "metadata": {}
        }
      ],
      "source": [
        "Question(question_1203)"
      ]
    },
    {
      "cell_type": "code",
      "execution_count": null,
      "metadata": {
        "id": "VWnKY7svHwGj",
        "colab": {
          "base_uri": "https://localhost:8080/"
        },
        "outputId": "fabe67ae-644e-43d4-ea21-8f825e519105"
      },
      "outputs": [
        {
          "output_type": "stream",
          "name": "stdout",
          "text": [
            "Writing _1203.py\n"
          ]
        }
      ],
      "source": [
        "%%writefile _1203.py\n"
      ]
    },
    {
      "cell_type": "code",
      "execution_count": null,
      "metadata": {
        "id": "kbf9wKQnH1sg",
        "colab": {
          "base_uri": "https://localhost:8080/",
          "height": 115
        },
        "outputId": "8fa752cd-a01b-47ab-d337-fc4404c584df"
      },
      "outputs": [
        {
          "output_type": "display_data",
          "data": {
            "text/plain": [
              "<IPython.core.display.HTML object>"
            ],
            "text/html": [
              "<h2 style = \"background-color:yellow\">결과 확인</h2>"
            ]
          },
          "metadata": {}
        },
        {
          "output_type": "display_data",
          "data": {
            "text/plain": [
              "<IPython.core.display.HTML object>"
            ],
            "text/html": [
              "<li>처리한 데이터 : </li>"
            ]
          },
          "metadata": {}
        },
        {
          "output_type": "display_data",
          "data": {
            "text/plain": [
              "<IPython.core.display.HTML object>"
            ],
            "text/html": [
              "<HR>"
            ]
          },
          "metadata": {}
        },
        {
          "output_type": "stream",
          "name": "stdout",
          "text": [
            "\u001b[38;2;255;0;0m틀렸습니다.\u001b[0m\n"
          ]
        }
      ],
      "source": [
        "code_check('_1203.py')"
      ]
    },
    {
      "cell_type": "code",
      "source": [
        "from IPython.display import display, HTML, Javascript\n",
        "\n",
        "button_html = HTML(\"\"\"\n",
        "<button onclick=\"addCodeCell()\">Add New Code Cell</button>\n",
        "<script>\n",
        "function addCodeCell() {\n",
        "    // 새 코드 셀 추가하는 Jupyter API 호출\n",
        "    var cell = Jupyter.notebook.insert_cell_below();\n",
        "    cell.set_text('???????????');\n",
        "    Jupyter.notebook.select_next();\n",
        "}\n",
        "</script>\n",
        "\"\"\")\n",
        "\n",
        "display(button_html)"
      ],
      "metadata": {
        "id": "sQ3VZLKoUr3v",
        "colab": {
          "base_uri": "https://localhost:8080/",
          "height": 38
        },
        "outputId": "edb3e684-b0a2-40bb-8f80-bc38c9ca9787"
      },
      "execution_count": null,
      "outputs": [
        {
          "output_type": "display_data",
          "data": {
            "text/plain": [
              "<IPython.core.display.HTML object>"
            ],
            "text/html": [
              "\n",
              "<button onclick=\"addCodeCell()\">Add New Code Cell</button>\n",
              "<script>\n",
              "function addCodeCell() {\n",
              "    // 새 코드 셀 추가하는 Jupyter API 호출\n",
              "    var cell = Jupyter.notebook.insert_cell_below();\n",
              "    cell.set_text('???????????');\n",
              "    Jupyter.notebook.select_next();\n",
              "}\n",
              "</script>\n"
            ]
          },
          "metadata": {}
        }
      ]
    },
    {
      "cell_type": "code",
      "source": [
        "from IPython.display import display, HTML, Javascript\n",
        "\n",
        "# 버튼 HTML과 클릭 이벤트 핸들러가 포함된 JavaScript\n",
        "button_html = HTML(\"\"\"\n",
        "<button id=\"addCellBtn\">Add New Code Cell</button>\n",
        "<script>\n",
        "  document.querySelector(\"#addCellBtn\").onclick = () => {\n",
        "    // Colab에서 새 코드 셀 추가\n",
        "    google.colab.kernel.invokeFunction('notebook.addCell', [], {});\n",
        "  }\n",
        "</script>\n",
        "\"\"\")\n",
        "\n",
        "display(button_html)"
      ],
      "metadata": {
        "colab": {
          "base_uri": "https://localhost:8080/",
          "height": 38
        },
        "id": "0LFGPLFloccd",
        "outputId": "705bfaa2-b0b3-4c69-e693-b36b9d90ac5e"
      },
      "execution_count": null,
      "outputs": [
        {
          "output_type": "display_data",
          "data": {
            "text/plain": [
              "<IPython.core.display.HTML object>"
            ],
            "text/html": [
              "\n",
              "<button id=\"addCellBtn\">Add New Code Cell</button>\n",
              "<script>\n",
              "  document.querySelector(\"#addCellBtn\").onclick = () => {\n",
              "    // Colab에서 새 코드 셀 추가\n",
              "    google.colab.kernel.invokeFunction('notebook.addCell', [], {});\n",
              "  }\n",
              "</script>\n"
            ]
          },
          "metadata": {}
        }
      ]
    },
    {
      "cell_type": "code",
      "source": [
        "%%javascript\n",
        "\n",
        "$('#maintoolbar-container').children('#toggleButton').remove()\n",
        "\n",
        "var toggle_button = (\"<button id='toggleButton' type='button'>Show Code</button>\");\n",
        "$('#maintoolbar-container').append(toggle_button);\n",
        "\n",
        "var code_shown = false;\n",
        "\n",
        "function code_toggle()\n",
        "{\n",
        "\n",
        "    if (code_shown)\n",
        "    {\n",
        "        console.log(\"code shown\")\n",
        "        $('div.input').hide('500');\n",
        "        $('#toggleButton').text('Show Code');\n",
        "    }\n",
        "    else\n",
        "    {\n",
        "        console.log(\"code not shown\")\n",
        "        $('div.input').show('500');\n",
        "        $('#toggleButton').text('Hide Code');\n",
        "    }\n",
        "\n",
        "    code_shown = !code_shown;\n",
        "}\n",
        "\n",
        "$(document).ready(function()\n",
        "{\n",
        "    code_shown=false;\n",
        "    $('div.input').hide();\n",
        "});\n"
      ],
      "metadata": {
        "colab": {
          "base_uri": "https://localhost:8080/",
          "height": 17
        },
        "id": "BY7TlGajtvB6",
        "outputId": "45b18e84-9c95-4883-ea80-e576fb952c78"
      },
      "execution_count": null,
      "outputs": [
        {
          "output_type": "display_data",
          "data": {
            "text/plain": [
              "<IPython.core.display.Javascript object>"
            ],
            "application/javascript": [
              "\n",
              "$('#maintoolbar-container').children('#toggleButton').remove()\n",
              "\n",
              "var toggle_button = (\"<button id='toggleButton' type='button'>Show Code</button>\");\n",
              "$('#maintoolbar-container').append(toggle_button);\n",
              "\n",
              "var code_shown = false;\n",
              "\n",
              "function code_toggle()\n",
              "{\n",
              "\n",
              "    if (code_shown)\n",
              "    {\n",
              "        console.log(\"code shown\")\n",
              "        $('div.input').hide('500');\n",
              "        $('#toggleButton').text('Show Code');\n",
              "    }\n",
              "    else\n",
              "    {\n",
              "        console.log(\"code not shown\")\n",
              "        $('div.input').show('500');\n",
              "        $('#toggleButton').text('Hide Code');\n",
              "    }\n",
              "\n",
              "    code_shown = !code_shown;\n",
              "}\n",
              "\n",
              "$(document).ready(function()\n",
              "{\n",
              "    code_shown=false;\n",
              "    $('div.input').hide();\n",
              "});\n"
            ]
          },
          "metadata": {}
        }
      ]
    },
    {
      "cell_type": "code",
      "source": [
        "from IPython.display import display\n",
        "import ipywidgets as widgets # Import the ipywidgets library\n",
        "def clicked():\n",
        "    print(\"button has been clicked!\")\n",
        "\n",
        "button_download = widgets.Button(description = 'Test Button')\n",
        "button_download.on_click(clicked)\n",
        "display(button_download)"
      ],
      "metadata": {
        "colab": {
          "base_uri": "https://localhost:8080/",
          "height": 49,
          "referenced_widgets": [
            "ae18daae7337492a847edd3a6d050a92",
            "7164c11b841d421584e5b7cba5dbec78",
            "77f741254a3a4289bbfd81b3cfbfb011"
          ]
        },
        "id": "Z3Ele53FtvR-",
        "outputId": "5b8c38a4-2fb9-4542-a7b9-b3f1749d7c73"
      },
      "execution_count": null,
      "outputs": [
        {
          "output_type": "display_data",
          "data": {
            "text/plain": [
              "Button(description='Test Button', style=ButtonStyle())"
            ],
            "application/vnd.jupyter.widget-view+json": {
              "version_major": 2,
              "version_minor": 0,
              "model_id": "ae18daae7337492a847edd3a6d050a92"
            }
          },
          "metadata": {}
        }
      ]
    },
    {
      "cell_type": "code",
      "source": [
        "from IPython.display import display\n",
        "import ipywidgets as widgets # Import the ipywidgets library\n",
        "button = widgets.Button(description=\"Click Me!\")\n",
        "output = widgets.Output()\n",
        "\n",
        "display(button, output)\n",
        "\n",
        "def on_button_clicked(b):\n",
        "    with output:\n",
        "        print(\"Button clicked.\")\n",
        "\n",
        "button.on_click(on_button_clicked)"
      ],
      "metadata": {
        "colab": {
          "base_uri": "https://localhost:8080/",
          "height": 49,
          "referenced_widgets": [
            "be733669acea4d6a81f1d440c63cdb6f",
            "321f48eeebc9414fb3e24c3f635d2f09",
            "767639d72eef4def8a1cac7f180ff805",
            "5599d336b441407c838b3d7b74ccc241",
            "89ef33a8bc624eff99c836df8021c416"
          ]
        },
        "id": "7oM3dpBkuaIK",
        "outputId": "b5e14b08-fa18-4d81-e3f7-74124a7cef1b"
      },
      "execution_count": null,
      "outputs": [
        {
          "output_type": "display_data",
          "data": {
            "text/plain": [
              "Button(description='Click Me!', style=ButtonStyle())"
            ],
            "application/vnd.jupyter.widget-view+json": {
              "version_major": 2,
              "version_minor": 0,
              "model_id": "be733669acea4d6a81f1d440c63cdb6f"
            }
          },
          "metadata": {}
        },
        {
          "output_type": "display_data",
          "data": {
            "text/plain": [
              "Output()"
            ],
            "application/vnd.jupyter.widget-view+json": {
              "version_major": 2,
              "version_minor": 0,
              "model_id": "5599d336b441407c838b3d7b74ccc241"
            }
          },
          "metadata": {}
        }
      ]
    },
    {
      "cell_type": "code",
      "source": [
        "from ipylab import JupyterFrontEnd"
      ],
      "metadata": {
        "colab": {
          "base_uri": "https://localhost:8080/",
          "height": 315
        },
        "id": "Y-SDwsOr6j-j",
        "outputId": "4a84656d-d75b-4014-d74b-c773571f9740"
      },
      "execution_count": null,
      "outputs": [
        {
          "output_type": "error",
          "ename": "ModuleNotFoundError",
          "evalue": "No module named 'ipylab'",
          "traceback": [
            "\u001b[0;31m---------------------------------------------------------------------------\u001b[0m",
            "\u001b[0;31mModuleNotFoundError\u001b[0m                       Traceback (most recent call last)",
            "\u001b[0;32m<ipython-input-13-3e9376d3ca47>\u001b[0m in \u001b[0;36m<cell line: 1>\u001b[0;34m()\u001b[0m\n\u001b[0;32m----> 1\u001b[0;31m \u001b[0;32mfrom\u001b[0m \u001b[0mipylab\u001b[0m \u001b[0;32mimport\u001b[0m \u001b[0mJupyterFrontEnd\u001b[0m\u001b[0;34m\u001b[0m\u001b[0;34m\u001b[0m\u001b[0m\n\u001b[0m",
            "\u001b[0;31mModuleNotFoundError\u001b[0m: No module named 'ipylab'",
            "",
            "\u001b[0;31m---------------------------------------------------------------------------\u001b[0;32m\nNOTE: If your import is failing due to a missing package, you can\nmanually install dependencies using either !pip or !apt.\n\nTo view examples of installing some common dependencies, click the\n\"Open Examples\" button below.\n\u001b[0;31m---------------------------------------------------------------------------\u001b[0m\n"
          ],
          "errorDetails": {
            "actions": [
              {
                "action": "open_url",
                "actionText": "Open Examples",
                "url": "/notebooks/snippets/importing_libraries.ipynb"
              }
            ]
          }
        }
      ]
    },
    {
      "cell_type": "code",
      "source": [
        "!pip install anywidget\n",
        "!pip install ipylab\n",
        "import anywidget\n",
        "from traitlets import Int, observe\n",
        "\n"
      ],
      "metadata": {
        "id": "SoWZywFR6nq1"
      },
      "execution_count": null,
      "outputs": []
    },
    {
      "cell_type": "code",
      "source": [
        "class CounterWidget(anywidget.AnyWidget):\n",
        "    _esm = \"\"\"\n",
        "    export function render({ model, el }) {\n",
        "      let button = document.createElement(\"button\");\n",
        "      button.innerHTML = `count is ${model.get(\"value\")}`;\n",
        "      button.addEventListener(\"click\", () => {\n",
        "        model.set(\"value\", model.get(\"value\") + 1);\n",
        "        model.save_changes();\n",
        "      });\n",
        "      model.on(\"change:value\", () => {\n",
        "        button.innerHTML = `count is ${model.get(\"value\")}`;\n",
        "      });\n",
        "      el.appendChild(button);\n",
        "    }\n",
        "    \"\"\"\n",
        "\n",
        "    value = Int(0).tag(sync=True)\n",
        "\n",
        "    @observe(\"value\")\n",
        "    def _observe_count(self, change):\n",
        "        text = f\"'Hello world, count is {change.new}'\"\n",
        "        from ipylab import JupyterFrontEnd\n",
        "        app = JupyterFrontEnd()\n",
        "        app.commands.execute('notebook:insert-cell-below')\n",
        "        app.commands.execute('notebook:replace-selection', { 'text': text})\n",
        "\n",
        "CounterWidget()"
      ],
      "metadata": {
        "id": "EFzITE4k60Tp"
      },
      "execution_count": null,
      "outputs": []
    },
    {
      "cell_type": "code",
      "source": [
        "import anywidget\n",
        "import traitlets\n",
        "\n",
        "class CounterWidget(anywidget.AnyWidget):\n",
        "    _esm = \"\"\"\n",
        "    export function render({ model, el }) {\n",
        "      let count = () => model.get(\"value\");\n",
        "      let btn = document.createElement(\"button\");\n",
        "\n",
        "      btn.innerHTML = `Button`;\n",
        "      btn.addEventListener(\"click\", () => {\n",
        "          window.Jupyter.notebook.select_next();\n",
        "\n",
        "          window.Jupyter.notebook.insert_cell_below();\n",
        "          window.Jupyter.notebook.select_next();\n",
        "          const activeCell = window.Jupyter.notebook.get_cell(window.Jupyter.notebook.get_anchor_index());\n",
        "\n",
        "          activeCell.set_text(count());\n",
        "\n",
        "\n",
        "          console.log(count())\n",
        "      });\n",
        "\n",
        "      el.appendChild(btn);\n",
        "    }\n",
        "    \"\"\"\n",
        "\n",
        "    value = traitlets.Unicode(\"ho\").tag(sync=True)\n",
        "\n",
        "\n",
        "w = CounterWidget()\n",
        "w.value = \"hi\"\n",
        "w"
      ],
      "metadata": {
        "id": "A1JU20Du7RkE"
      },
      "execution_count": null,
      "outputs": []
    },
    {
      "cell_type": "code",
      "source": [
        "from ipylab import JupyterFrontEnd\n",
        "app = JupyterFrontEnd()\n",
        "\n",
        "text = \"hi\"\n",
        "import time\n",
        "\n",
        "\n",
        "for i in range(0,10):\n",
        "    app.commands.execute('notebook:insert-cell-below')\n",
        "    time.sleep(0.05)\n",
        "\n",
        "    app.commands.execute('notebook:replace-selection', { 'text': text})\n",
        "    time.sleep(0.05)"
      ],
      "metadata": {
        "id": "_IRtbtS_7Vu1"
      },
      "execution_count": null,
      "outputs": []
    },
    {
      "cell_type": "code",
      "source": [
        "app.commands.execute('notebook:replace-selection', { 'text': 'import math\\n\\nmath.pi'})"
      ],
      "metadata": {
        "id": "IIeQkGOS7V-d"
      },
      "execution_count": null,
      "outputs": []
    },
    {
      "cell_type": "code",
      "source": [
        "from google.colab import _frontend\n",
        "_frontend.create_scratch_cell('print(\"your code here\")')"
      ],
      "metadata": {
        "id": "TYgtnwPm8VBZ"
      },
      "execution_count": null,
      "outputs": []
    },
    {
      "cell_type": "code",
      "source": [
        "import google.colab._message as message\n",
        "\n",
        "\n",
        "def create_code_cell(content, bottom_pane=False):\n",
        "  \"\"\"Opens a new scratch cell with the given contents.\n",
        "\n",
        "  A popup will first be shown to the user to confirm that they trust the code\n",
        "  being added.\n",
        "\n",
        "  Args:\n",
        "    content: The contents to add to the new scratch cell.\n",
        "    bottom_pane: If True, add the scratch cell to the bottom pane instead of the\n",
        "      right pane.\n",
        "\n",
        "  Returns:\n",
        "    None\n",
        "  \"\"\"\n",
        "\n",
        "  message._read_next_input_message()\n",
        "\n",
        "create_code_cell('sfda')"
      ],
      "metadata": {
        "id": "EGZ4IIIp3IxJ"
      },
      "execution_count": null,
      "outputs": []
    },
    {
      "cell_type": "code",
      "source": [
        "import IPython\n",
        "from IPython.display import display_javascript\n",
        "\n",
        "def make_cell(s):\n",
        "   text = s.replace('\\n','\\\\n').replace(\"\\\"\", \"\\\\\\\"\").replace(\"'\", \"\\\\'\")\n",
        "   text2 = \"\"\"var t_cell = IPython.notebook.get_selected_cell()\n",
        "   t_cell.set_text('{}');\n",
        "   var t_index = IPython.notebook.get_cells().indexOf(t_cell);\n",
        "   IPython.notebook.to_code(t_index);\n",
        "   IPython.notebook.get_cell(t_index).render();\"\"\".format(text)\n",
        "   display_javascript(text2, raw=True)\n",
        "\n",
        "def insert_file(filename):\n",
        "   with open(filename, 'r') as content_file:\n",
        "       content = content_file.read()\n",
        "   make_cell(content)"
      ],
      "metadata": {
        "id": "oG1DCs2G5gZl"
      },
      "execution_count": null,
      "outputs": []
    },
    {
      "cell_type": "code",
      "source": [
        "make_cell(\"print('hello')\")"
      ],
      "metadata": {
        "id": "Fnv9d9D_5gpz"
      },
      "execution_count": null,
      "outputs": []
    },
    {
      "cell_type": "code",
      "source": [
        "# 주피터 노트북에서 가능한 방법\n",
        "!pip install ipylab\n",
        "from ipylab  import JupyterFrontEnd\n",
        "app = JupyterFrontEnd()\n",
        "app.commands.execute('notebook:replace-selection', { 'text': 'import math\\n\\nmath.pi'})\n"
      ],
      "metadata": {
        "id": "6uEKB9Vn7CnA"
      },
      "execution_count": null,
      "outputs": []
    },
    {
      "cell_type": "code",
      "source": [
        "# 주피터 노트북에서 가능한 방법\n",
        "!pip install anywidget\n",
        "!pip install traitlets\n",
        "import anywidget\n",
        "from traitlets import Int, observe\n",
        "\n",
        "class CounterWidget(anywidget.AnyWidget):\n",
        "    _esm = \"\"\"\n",
        "    export function render({ model, el }) {\n",
        "      let button = document.createElement(\"button\");\n",
        "      button.innerHTML = `count is ${model.get(\"value\")}`;\n",
        "      button.addEventListener(\"click\", () => {\n",
        "        model.set(\"value\", model.get(\"value\") + 1);\n",
        "        model.save_changes();\n",
        "      });\n",
        "      model.on(\"change:value\", () => {\n",
        "        button.innerHTML = `count is ${model.get(\"value\")}`;\n",
        "      });\n",
        "      el.appendChild(button);\n",
        "    }\n",
        "    \"\"\"\n",
        "\n",
        "    value = Int(0).tag(sync=True)\n",
        "\n",
        "    @observe(\"value\")\n",
        "    def _observe_count(self, change):\n",
        "        text = f\"'Hello world, count is {change.new}'\"\n",
        "        from ipylab import JupyterFrontEnd\n",
        "        app = JupyterFrontEnd()\n",
        "        app.commands.execute('notebook:insert-cell-below')\n",
        "        app.commands.execute('notebook:replace-selection', { 'text': text})\n",
        "\n",
        "CounterWidget()"
      ],
      "metadata": {
        "id": "kmgZZd5A7Z2J",
        "collapsed": true
      },
      "execution_count": null,
      "outputs": []
    },
    {
      "cell_type": "code",
      "source": [
        "# 주피터 노트북은 코드셀이 추가가 되나, 코랩의 경우 추가가 안됨\n",
        "from IPython.display import display, HTML, Javascript\n",
        "\n",
        "# HTML + JavaScript for the button\n",
        "button_html = HTML(\"\"\"\n",
        "<button onclick=\"addCodeCell()\">Add New Code Cell</button>\n",
        "<script>\n",
        "function addCodeCell() {\n",
        "    // Simulate pressing the 'add code cell' keyboard shortcut\n",
        "    document.dispatchEvent(new KeyboardEvent('keydown', {'ctrlKey': true, 'keyCode': 66, 'which': 66}));\n",
        "}\n",
        "</script>\n",
        "\"\"\")\n",
        "\n",
        "display(button_html)"
      ],
      "metadata": {
        "id": "-Nz8OBvx91S7"
      },
      "execution_count": null,
      "outputs": []
    },
    {
      "cell_type": "code",
      "source": [
        "# 버튼을 이용하여 다른 페이지를 여는 것은 가능함\n",
        "# 하지만 여러개를 여는 경우, 여러 페이지의 커널을 생성해야 하므로... 문제가 있음,\n",
        "\n",
        "from IPython.display import display, HTML\n",
        "\n",
        "# HTML과 JavaScript를 포함하는 버튼 생성\n",
        "button_html = HTML(\"\"\"\n",
        "<button onclick=\"openColabNotebook()\">Open Another Colab Notebook</button>\n",
        "<script>\n",
        "function openColabNotebook() {\n",
        "    // 새 창에서 Colab 노트북 URL 열기\n",
        "    window.open('https://colab.research.google.com/drive/1DNS6DcELVHgjaZS3j3qyiUJozfT_m1YW?usp=sharing');\n",
        "}\n",
        "</script>\n",
        "\"\"\")\n",
        "\n",
        "display(button_html)"
      ],
      "metadata": {
        "id": "k6ju6-RUDHw2"
      },
      "execution_count": null,
      "outputs": []
    },
    {
      "cell_type": "code",
      "source": [
        "# 닫는 버튼은 구현 안됨\n",
        "from IPython.display import display, HTML\n",
        "\n",
        "# HTML과 JavaScript를 포함하는 버튼 생성\n",
        "button_html = HTML(\"\"\"\n",
        "<button onclick=\"closeWindow()\">Close This Tab</button>\n",
        "<script>\n",
        "function closeWindow() {\n",
        "    // 현재 창 닫기\n",
        "    window.close();\n",
        "}\n",
        "</script>\n",
        "\"\"\")\n",
        "\n",
        "display(button_html)\n"
      ],
      "metadata": {
        "id": "dAb9GYk2XDa4"
      },
      "execution_count": null,
      "outputs": []
    },
    {
      "cell_type": "markdown",
      "source": [
        "# 코드셀에서 .ipynb 파일 생성\n",
        ">> 이 방법 불가능.."
      ],
      "metadata": {
        "id": "L3VbWBX2LmUT"
      }
    },
    {
      "cell_type": "code",
      "source": [
        "import json\n",
        "\n",
        "# Path to the notebook file\n",
        "notebook_path = '/content/5204.ipynb'\n",
        "\n",
        "# Reading the notebook file\n",
        "with open(notebook_path, 'r', encoding='utf-8') as f:\n",
        "    notebook = json.load(f)\n",
        "\n",
        "# Optionally, print the JSON content\n",
        "# This will be raw and not formatted for typical use in a Jupyter interface\n",
        "print(json.dumps(notebook, indent=4))"
      ],
      "metadata": {
        "collapsed": true,
        "id": "xWSGkuNGLpXB"
      },
      "execution_count": null,
      "outputs": []
    },
    {
      "cell_type": "code",
      "source": [
        "# @title\n",
        "%%writefile _5204.ipynb\n",
        "{\n",
        "  \"cells\": [\n",
        "    {\n",
        "      \"cell_type\": \"code\",\n",
        "      \"execution_count\": null,\n",
        "      \"metadata\": {\n",
        "        \"colab\": {\n",
        "          \"base_uri\": \"https://localhost:8080/\"\n",
        "        },\n",
        "        \"id\": \"jbVdjoe0Hci0\",\n",
        "        \"outputId\": \"1576132c-9176-4868-9197-85d36149c732\",\n",
        "        \"collapsed\": true\n",
        "      },\n",
        "      \"outputs\": [\n",
        "        {\n",
        "          \"output_type\": \"stream\",\n",
        "          \"name\": \"stdout\",\n",
        "          \"text\": [\n",
        "            \"Cloning into 'jupyter_judge'...\\n\",\n",
        "            \"remote: Enumerating objects: 1099, done.\\u001b[K\\n\",\n",
        "            \"remote: Counting objects: 100% (557/557), done.\\u001b[K\\n\",\n",
        "            \"remote: Compressing objects: 100% (270/270), done.\\u001b[K\\n\",\n",
        "            \"remote: Total 1099 (delta 371), reused 409 (delta 285), pack-reused 542\\u001b[K\\n\",\n",
        "            \"Receiving objects: 100% (1099/1099), 5.06 MiB | 8.13 MiB/s, done.\\n\",\n",
        "            \"Resolving deltas: 100% (606/606), done.\\n\",\n",
        "            \"이름을 입력해주세요.dfsa\\n\",\n",
        "            \"지금부터 공부를 시작합니다.\\n\"\n",
        "          ]\n",
        "        }\n",
        "      ],\n",
        "      \"source\": [\n",
        "        \"!git clone https://github.com/GoHakNeung/jupyter_judge.git\\n\",\n",
        "        \"%run /content/jupyter_judge/code_check.py\"\n",
        "      ]\n",
        "    },\n",
        "    {\n",
        "      \"cell_type\": \"code\",\n",
        "      \"source\": [\n",
        "        \"Question(question_5204)\"\n",
        "      ],\n",
        "      \"metadata\": {\n",
        "        \"colab\": {\n",
        "          \"base_uri\": \"https://localhost:8080/\",\n",
        "          \"height\": 534\n",
        "        },\n",
        "        \"id\": \"OUaeM0SxzkQJ\",\n",
        "        \"outputId\": \"cd581169-5461-44f5-a799-a99bed2703c2\"\n",
        "      },\n",
        "      \"execution_count\": null,\n",
        "      \"outputs\": [\n",
        "        {\n",
        "          \"output_type\": \"display_data\",\n",
        "          \"data\": {\n",
        "            \"text/plain\": [\n",
        "              \"<IPython.core.display.HTML object>\"\n",
        "            ],\n",
        "            \"text/html\": [\n",
        "              \"<h2 style = \\\"background-color:yellow; \\\">문제 설명</h2>\\n\",\n",
        "              \"<p>길이가 <span style = \\\"background-color:\\t#E0E0E0;\\\">100</span>인 별을 그려봅시다.</p>\\n\",\n",
        "              \"<svg width = \\\"210\\\" height = \\\"210\\\"><polygon points = \\\"5,75 195,75 40,185 100,5 160,185 \\\", fill = \\\"#FFFFFF\\\", stroke = \\\"#000000\\\", stroke-width = \\\"4\\\"></svg>\\n\",\n",
        "              \"<HR>\\n\",\n",
        "              \"<h2> 입력 </h2>\\n\",\n",
        "              \"<p>없음</p>\\n\",\n",
        "              \"<h2> 출력 </h2>\\n\",\n",
        "              \"<p>forward(), right()를 이용해서 별을 그립니다..</p>\\n\",\n",
        "              \"<HR>\\n\",\n",
        "              \"<div style = \\\"float:left;width:50%\\\">\\n\",\n",
        "              \"<h2> 입력 예시 </h2>\\n\",\n",
        "              \"<p> 없음</p>\\n\",\n",
        "              \"</div>\\n\",\n",
        "              \"<div style = \\\"float:right;width:50%\\\">\\n\",\n",
        "              \"<h2> 출력 예시 </h2>\\n\",\n",
        "              \"<p>길이가 100인 별</p>\\n\",\n",
        "              \"</div>\\n\"\n",
        "            ]\n",
        "          },\n",
        "          \"metadata\": {}\n",
        "        }\n",
        "      ]\n",
        "    },\n",
        "    {\n",
        "      \"cell_type\": \"code\",\n",
        "      \"source\": [\n",
        "        \"%%writefile _5204.py\\n\"\n",
        "      ],\n",
        "      \"metadata\": {\n",
        "        \"colab\": {\n",
        "          \"base_uri\": \"https://localhost:8080/\"\n",
        "        },\n",
        "        \"id\": \"6iitKa4Qz2VR\",\n",
        "        \"outputId\": \"7b323d76-a589-4a2e-b8e7-e26d071e7f4f\"\n",
        "      },\n",
        "      \"execution_count\": null,\n",
        "      \"outputs\": [\n",
        "        {\n",
        "          \"output_type\": \"stream\",\n",
        "          \"name\": \"stdout\",\n",
        "          \"text\": [\n",
        "            \"Writing _5204.py\\n\"\n",
        "          ]\n",
        "        }\n",
        "      ]\n",
        "    },\n",
        "    {\n",
        "      \"cell_type\": \"code\",\n",
        "      \"source\": [\n",
        "        \"turtle_check('_5204.py')\"\n",
        "      ],\n",
        "      \"metadata\": {\n",
        "        \"id\": \"I7PIPO6kz_br\"\n",
        "      },\n",
        "      \"execution_count\": null,\n",
        "      \"outputs\": []\n",
        "    }\n",
        "  ],\n",
        "  \"metadata\": {\n",
        "    \"colab\": {\n",
        "      \"provenance\": []\n",
        "    },\n",
        "    \"kernelspec\": {\n",
        "      \"display_name\": \"Python 3\",\n",
        "      \"name\": \"python3\"\n",
        "    },\n",
        "    \"language_info\": {\n",
        "      \"name\": \"python\"\n",
        "    }\n",
        "  },\n",
        "  \"nbformat\": 4,\n",
        "  \"nbformat_minor\": 0\n",
        "}"
      ],
      "metadata": {
        "cellView": "form",
        "id": "ebaGf0ObNBwZ"
      },
      "execution_count": null,
      "outputs": []
    },
    {
      "cell_type": "code",
      "source": [
        "from IPython.display import display, HTML, Javascript\n",
        "import ipywidgets as widgets\n",
        "from google.colab import output\n",
        "\n",
        "# HTML Form과 JavaScript 함수를 정의합니다.\n",
        "input_form = \"\"\"\n",
        "<div>\n",
        "<textarea id=\"text_input\" rows=\"4\" cols=\"50\" style=\"width:70%;\"></textarea><br>\n",
        "<button onclick=\"sendText()\">Submit</button>\n",
        "</div>\n",
        "<script>\n",
        "function sendText() {\n",
        "  const text = document.getElementById('text_input').value;\n",
        "  google.colab.kernel.invokeFunction('notebook.run_cell', [text], {});\n",
        "}\n",
        "</script>\n",
        "\"\"\"\n",
        "\n",
        "# HTML 폼을 출력합니다.\n",
        "display(HTML(input_form))\n",
        "\n",
        "# 콜백 함수를 정의하여 JavaScript에서 호출할 수 있게 합니다.\n",
        "def run_cell(text):\n",
        "    code_check(text)\n",
        "\n",
        "output.register_callback('notebook.run_cell', run_cell)\n"
      ],
      "metadata": {
        "id": "e_qrfCeKNKe-"
      },
      "execution_count": null,
      "outputs": []
    },
    {
      "cell_type": "code",
      "source": [
        "from IPython.display import display, HTML, Javascript\n",
        "import ipywidgets as widgets\n",
        "from google.colab import output\n",
        "\n",
        "# HTML Form과 JavaScript 함수를 정의합니다.\n",
        "input_form = \"\"\"\n",
        "<div>\n",
        "<textarea id=\"text_input\" rows=\"4\" cols=\"50\" style=\"width:70%;\"></textarea><br>\n",
        "<button onclick=\"sendText()\">Submit</button>\n",
        "</div>\n",
        "<script>\n",
        "function sendText() {\n",
        "  const text = document.getElementById('text_input').value;\n",
        "  google.colab.kernel.invokeFunction('notebook.save_text', [text], {});\n",
        "}\n",
        "</script>\n",
        "\"\"\"\n",
        "\n",
        "# HTML 폼을 출력합니다.\n",
        "display(HTML(input_form))\n",
        "\n",
        "# 콜백 함수를 정의하여 JavaScript에서 호출할 수 있게 합니다.\n",
        "def save_text(text):\n",
        "    # 파일 이름을 지정합니다.\n",
        "    file_path = '/content/_1102.py'\n",
        "    # 텍스트를 파일에 저장합니다.\n",
        "    with open(file_path, 'w') as file:\n",
        "        file.write(text)\n",
        "    code_check('_1102.py')\n",
        "\n",
        "output.register_callback('notebook.save_text', save_text)\n"
      ],
      "metadata": {
        "id": "5Q3STLt0PVJy"
      },
      "execution_count": null,
      "outputs": []
    },
    {
      "cell_type": "code",
      "source": [],
      "metadata": {
        "id": "3iNs-R5gUdgj"
      },
      "execution_count": null,
      "outputs": []
    },
    {
      "cell_type": "code",
      "source": [
        "from IPython.display import display, HTML, Javascript\n",
        "from google.colab import output\n",
        "\n",
        "# HTML Form과 JavaScript 함수를 정의합니다.\n",
        "input_form = \"\"\"\n",
        "<div>\n",
        "<textarea id=\"text_input\" rows=\"4\" cols=\"50\" style=\"width:70%;\"></textarea><br>\n",
        "<button onclick=\"sendText()\">Submit</button>\n",
        "<div id=\"output_area\"></div>  <!-- 결과를 출력할 부분 -->\n",
        "</div>\n",
        "<script>\n",
        "function sendText() {\n",
        "  const text = document.getElementById('text_input').value;\n",
        "  google.colab.kernel.invokeFunction('notebook.save_text', [text], {});\n",
        "}\n",
        "</script>\n",
        "\"\"\"\n",
        "\n",
        "# HTML 폼을 출력합니다.\n",
        "display(HTML(input_form))\n",
        "\n",
        "# 콜백 함수를 정의하여 JavaScript에서 호출할 수 있게 합니다.\n",
        "def save_text(text):\n",
        "    # 파일 경로를 정의합니다.\n",
        "    file_path = '/content/_1101.py'\n",
        "    # 텍스트를 파일에 저장합니다.\n",
        "    with open(file_path, 'w') as file:\n",
        "        file.write(text)\n",
        "    code_check('_1101.py')\n",
        "    # 결과 출력 영역을 업데이트합니다.\n",
        "    display(Javascript('document.getElementById(\"output_area\").innerHTML = \"Text has been saved to ' + file_path + '\";'))\n",
        "\n",
        "output.register_callback('notebook.save_text', save_text)\n"
      ],
      "metadata": {
        "collapsed": true,
        "id": "u_jP8e-aUcT0"
      },
      "execution_count": null,
      "outputs": []
    },
    {
      "cell_type": "code",
      "source": [
        "from IPython.display import display, HTML, Javascript\n",
        "from google.colab import output\n",
        "from IPython.display import clear_output\n",
        "\n",
        "# HTML 및 JavaScript 설정\n",
        "input_form = \"\"\"\n",
        "<div>\n",
        "<textarea id=\"text_input\" rows=\"4\" cols=\"50\" style=\"width:70%;\"></textarea><br>\n",
        "<button onclick=\"sendText()\">Submit</button>\n",
        "<button onclick=\"clearOutput()\">Clear Output</button>\n",
        "<div id=\"output_area\"></div>\n",
        "</div>\n",
        "<script>\n",
        "function sendText() {\n",
        "    const text = document.getElementById('text_input').value;\n",
        "    google.colab.kernel.invokeFunction('notebook.save_text', [text], {});\n",
        "    var editor = CodeMirror.fromTextArea(document.getElementById('code-editor'), {\n",
        "      lineNumbers: true,\n",
        "      mode: \"javascript\",\n",
        "      theme: \"default\"\n",
        "    });\n",
        "\n",
        "}\n",
        "\n",
        "function clearOutput() {\n",
        "    google.colab.kernel.invokeFunction('notebook.clear_output', [], {});\n",
        "\n",
        "}\n",
        "</script>\n",
        "\"\"\"\n",
        "\n",
        "# HTML 폼을 표시\n",
        "display(HTML(input_form))\n",
        "\n",
        "# 텍스트 저장 콜백 함수\n",
        "def save_text(text):\n",
        "    file_path = '/content/_1101.txt'\n",
        "    with open(file_path, 'w') as file:\n",
        "        file.write(text)\n",
        "    code_check('_1101.py')\n",
        "\n",
        "# 출력 초기화 콜백 함수\n",
        "def clear_the_output():\n",
        "    clear_output(wait=True)\n",
        "\n",
        "# 콜백 함수 등록\n",
        "output.register_callback('notebook.save_text', save_text)\n",
        "output.register_callback('notebook.clear_output', clear_the_output)\n"
      ],
      "metadata": {
        "id": "FUCu4X7WUste"
      },
      "execution_count": null,
      "outputs": []
    },
    {
      "cell_type": "code",
      "source": [
        "# @title\n",
        "from IPython.display import display, HTML\n",
        "\n",
        "# HTML 및 JavaScript 코드를 정의\n",
        "html_code = \"\"\"\n",
        "<link rel=\"stylesheet\" href=\"https://cdnjs.cloudflare.com/ajax/libs/codemirror/5.65.2/codemirror.min.css\">\n",
        "<script src=\"https://cdnjs.cloudflare.com/ajax/libs/codemirror/5.65.2/codemirror.min.js\"></script>\n",
        "<script src=\"https://cdnjs.cloudflare.com/ajax/libs/codemirror/5.65.2/mode/python/python.min.js\"></script>\n",
        "\n",
        "<div style=\"height:500px;\">\n",
        "  <textarea id=\"code-editor\" name=\"code\"></textarea>\n",
        "</div>\n",
        "\n",
        "<script>\n",
        "  var editor = CodeMirror.fromTextArea(document.getElementById('code-editor'), {\n",
        "    lineNumbers: true,\n",
        "    mode: 'python',\n",
        "    theme: 'default',\n",
        "    viewportMargin: Infinity\n",
        "  });\n",
        "</script>\n",
        "\"\"\"\n",
        "\n",
        "# HTML 코드 출력\n",
        "display(HTML(html_code))\n"
      ],
      "metadata": {
        "id": "WDK3NQuDVg7u",
        "cellView": "form"
      },
      "execution_count": null,
      "outputs": []
    },
    {
      "cell_type": "code",
      "source": [
        "# @title\n",
        "code_mirror = \"\"\"\n",
        "<h2 style=\"background-color:yellow;\">문제 설명</h2>\n",
        "<p>5.24에서 자연수 부분을 출력해봅시다.</p>\n",
        "<HR>\n",
        "<h2>입력</h2>\n",
        "<p>없음</p>\n",
        "<h2>출력</h2>\n",
        "<p>자연수에 해당하는 숫자를 출력합니다.</p>\n",
        "<HR>\n",
        "\n",
        "<div style=\"float:left;width:50%\">\n",
        "<h2>입력 예시</h2>\n",
        "<p>없음</p>\n",
        "</div>\n",
        "<div style=\"float:right;width:50%\">\n",
        "<h2>출력 예시</h2>\n",
        "<p>5.24에서 자연수 부분</p>\n",
        "</div>\n",
        "\n",
        "\n",
        "<HR>\n",
        "\n",
        "<link rel=\"stylesheet\" href=\"https://cdnjs.cloudflare.com/ajax/libs/codemirror/5.65.2/codemirror.min.css\">\n",
        "<script src=\"https://cdnjs.cloudflare.com/ajax/libs/codemirror/5.65.2/codemirror.min.js\"></script>\n",
        "<script src=\"https://cdnjs.cloudflare.com/ajax/libs/codemirror/5.65.2/mode/javascript/javascript.min.js\"></script>\n",
        "<section>\n",
        "<textarea id=\"code-editor\"></textarea>\n",
        "</section>\n",
        "<script>\n",
        "  var editor = CodeMirror.fromTextArea(document.getElementById('code-editor'), {\n",
        "    lineNumbers: true,\n",
        "    mode: \"python\",\n",
        "    theme: \"default\"\n",
        "  });\n",
        "</script>\n",
        "\"\"\"\n",
        "\n",
        "# HTML 코드 출력\n",
        "display(HTML(code_mirror))"
      ],
      "metadata": {
        "cellView": "form",
        "id": "hosaoZaBeXeM"
      },
      "execution_count": null,
      "outputs": []
    },
    {
      "cell_type": "markdown",
      "source": [
        "# 개발 중인 코드"
      ],
      "metadata": {
        "id": "awygD5kxt_FO"
      }
    },
    {
      "cell_type": "code",
      "source": [
        "#요게 핵심임\n",
        "question = \"\"\"\n",
        "<h2 style=\"background-color:yellow;\">문제 설명</h2>\n",
        "<p>5.24에서 자연수 부분을 출력해봅시다.</p>\n",
        "<HR>\n",
        "<h2>입력</h2>\n",
        "<p>없음</p>\n",
        "<h2>출력</h2>\n",
        "<p>자연수에 해당하는 숫자를 출력합니다.</p>\n",
        "<HR>\n",
        "\n",
        "<div style=\"float:left;width:50%\">\n",
        "<h2>입력 예시</h2>\n",
        "<p>없음</p>\n",
        "</div>\n",
        "<div style=\"float:right;width:50%\">\n",
        "<h2>출력 예시</h2>\n",
        "<p>5.24에서 자연수 부분</p>\n",
        "</div>\n",
        "\"\"\"\n",
        "\n",
        "code_editor = \"\"\"\n",
        "\n",
        "<HR>\n",
        "<h2 style=\"background-color:yellow;\"> 코드 작성 </h2>\n",
        "\n",
        "<link rel=\"stylesheet\" href=\"https://cdnjs.cloudflare.com/ajax/libs/codemirror/5.65.2/codemirror.min.css\">\n",
        "<script src=\"https://cdnjs.cloudflare.com/ajax/libs/codemirror/5.65.2/codemirror.min.js\"></script>\n",
        "<script src=\"https://cdnjs.cloudflare.com/ajax/libs/codemirror/5.65.2/mode/javascript/javascript.min.js\"></script>\n",
        "<section>\n",
        "<textarea id=\"code-editor\"></textarea>\n",
        "</section>\n",
        "<div>\n",
        "<button onclick=\"sendText()\">Submit</button>\n",
        "<button onclick=\"clearOutput()\">Clear Output</button>\n",
        "</div>\n",
        "<script>\n",
        "  var editor = CodeMirror.fromTextArea(document.getElementById('code-editor'), {\n",
        "    lineNumbers: true,\n",
        "    mode: 'python',\n",
        "    theme: 'default',\n",
        "    viewportMargin: Infinity\n",
        "  });\n",
        "  function sendText() {\n",
        "    const text = editor.getValue();\n",
        "    google.colab.kernel.invokeFunction('notebook.save_text', [text], {});\n",
        "  };\n",
        "  function clearOutput() {\n",
        "\n",
        "    google.colab.kernel.invokeFunction('notebook.clear_output', [], {});\n",
        "  }\n",
        "\n",
        "\n",
        "</script>\n",
        "\"\"\"\n",
        "\n",
        "\n",
        "\n",
        "def save_text(text):\n",
        "    file_path = '/content/_1101.py'\n",
        "    with open(file_path, 'w') as file:\n",
        "        file.write(text)\n",
        "    code_check('_1101.py')\n",
        "output.register_callback('notebook.save_text', save_text)\n",
        "\n",
        "def clear_output():\n",
        "    output.clear()\n",
        "    display(HTML(question + code_editor))\n",
        "output.register_callback('notebook.clear_output', clear_output)\n",
        "\n",
        "\n",
        "\n",
        "# HTML 코드 출력\n",
        "display(HTML(question + code_editor))\n"
      ],
      "metadata": {
        "id": "c-ghpN4ndnPu"
      },
      "execution_count": null,
      "outputs": []
    },
    {
      "cell_type": "code",
      "source": [
        "# @title\n",
        "from IPython.display import display, HTML, Javascript\n",
        "from google.colab import output\n",
        "from IPython.display import clear_output\n",
        "\n",
        "# HTML 및 JavaScript 설정\n",
        "input_form = \"\"\"\n",
        "<link rel=\"stylesheet\" href=\"https://cdnjs.cloudflare.com/ajax/libs/codemirror/5.65.2/codemirror.min.css\">\n",
        "<script src=\"https://cdnjs.cloudflare.com/ajax/libs/codemirror/5.65.2/codemirror.min.js\"></script>\n",
        "<script src=\"https://cdnjs.cloudflare.com/ajax/libs/codemirror/5.65.2/mode/javascript/javascript.min.js\"></script>\n",
        "\n",
        "<div>\n",
        "<textarea id=\"text_input\" rows=\"4\" cols=\"50\" style=\"width:70%;\"></textarea><br>\n",
        "<button onclick=\"sendText()\">Submit</button>\n",
        "<button onclick=\"clearOutput()\">Clear Output</button>\n",
        "<div id=\"output_area\"></div>\n",
        "</div>\n",
        "<script>\n",
        "var editor = CodeMirror.fromTextArea(document.getElementById('text_input'), {\n",
        "  lineNumbers: true,\n",
        "  mode: 'javascript',\n",
        "  theme: 'default',\n",
        "  viewportMargin: Infinity\n",
        "});\n",
        "function sendText() {\n",
        "    const text = editor.getValue();\n",
        "    google.colab.kernel.invokeFunction('notebook.save_text', [text], {});\n",
        "}\n",
        "\n",
        "function clearOutput() {\n",
        "    google.colab.kernel.invokeFunction('notebook.clear_output', [], {});\n",
        "}\n",
        "</script>\n",
        "\"\"\"\n",
        "\n",
        "# HTML 폼을 표시\n",
        "display(HTML(input_form))\n",
        "\n",
        "# 텍스트 저장 콜백 함수\n",
        "def save_text(text):\n",
        "    file_path = '/content/sample_text.txt'\n",
        "    with open(file_path, 'w') as file:\n",
        "        file.write(text)\n",
        "    print(f\"Text has been saved to {file_path}\")\n",
        "\n",
        "# 출력 초기화 콜백 함수\n",
        "def clear_the_output():\n",
        "    clear_output(wait=True)\n",
        "\n",
        "# 콜백 함수 등록\n",
        "output.register_callback('notebook.save_text', save_text)\n",
        "output.register_callback('notebook.clear_output', clear_the_output)\n"
      ],
      "metadata": {
        "cellView": "form",
        "id": "toqLhyqKiDJY"
      },
      "execution_count": null,
      "outputs": []
    },
    {
      "cell_type": "markdown",
      "source": [
        "# 문제 출력, 문제 작성, 결과 출력 통합 버전 만들 기"
      ],
      "metadata": {
        "id": "3WX0LR2An3r9"
      }
    },
    {
      "cell_type": "code",
      "source": [
        "search_file = '_1101.py'\n",
        "matched_dicts = [d for d in test_set if d['test_file'] == search_file]\n",
        "print(matched_dicts)  # [{'name': 'Bob', 'age': 30}]"
      ],
      "metadata": {
        "id": "TNb3iNCel6iD"
      },
      "execution_count": null,
      "outputs": []
    },
    {
      "cell_type": "code",
      "source": [
        "# 리스트 안 딕셔너리에서, 특정 value 값에 있는 딕셔너리 찾는 방법\n",
        "search_question = question\n",
        "matched_dicts = [d for d in test_set if d['test_file'] == search_file]\n",
        "print(matched_dicts)  # [{'name': 'Bob', 'age': 30}]"
      ],
      "metadata": {
        "id": "TpI85x4YnwrB"
      },
      "execution_count": null,
      "outputs": []
    },
    {
      "cell_type": "code",
      "source": [
        "# 이 함수는 문제를 출력하면서, 파일 이름을 file_name 변수에 저장함.\n",
        "\n",
        "def Question(question_file) :\n",
        "  search_question = question_file\n",
        "  matched_dicts = [d for d in test_set if d['question'] == search_question]\n",
        "  file_name = matched_dicts[0]['test_file']\n",
        "  # file_type = matched_dicts[0]['type']\n",
        "  print(matched_dicts)\n",
        "  print(file_name)\n",
        "  display(HTML(question_file))"
      ],
      "metadata": {
        "id": "c4bDTzsGoXGH"
      },
      "execution_count": null,
      "outputs": []
    },
    {
      "cell_type": "code",
      "source": [
        "Question(question_1101)"
      ],
      "metadata": {
        "id": "q09qMjN2oklB"
      },
      "execution_count": null,
      "outputs": []
    },
    {
      "cell_type": "code",
      "source": [
        "#요게 핵심임\n",
        "question = \"\"\"\n",
        "<h2 style=\"background-color:yellow;\">문제 설명</h2>\n",
        "<p>5.24에서 자연수 부분을 출력해봅시다.</p>\n",
        "<HR>\n",
        "<h2>입력</h2>\n",
        "<p>없음</p>\n",
        "<h2>출력</h2>\n",
        "<p>자연수에 해당하는 숫자를 출력합니다.</p>\n",
        "<HR>\n",
        "\n",
        "<div style=\"float:left;width:50%\">\n",
        "<h2>입력 예시</h2>\n",
        "<p>없음</p>\n",
        "</div>\n",
        "<div style=\"float:right;width:50%\">\n",
        "<h2>출력 예시</h2>\n",
        "<p>5.24에서 자연수 부분</p>\n",
        "</div>\n",
        "\"\"\"\n",
        "\n",
        "code_editor = \"\"\"\n",
        "\n",
        "<HR>\n",
        "<h2 style=\"background-color:yellow;\"> 코드 작성 </h2>\n",
        "\n",
        "<link rel=\"stylesheet\" href=\"https://cdnjs.cloudflare.com/ajax/libs/codemirror/5.65.2/codemirror.min.css\">\n",
        "<script src=\"https://cdnjs.cloudflare.com/ajax/libs/codemirror/5.65.2/codemirror.min.js\"></script>\n",
        "<script src=\"https://cdnjs.cloudflare.com/ajax/libs/codemirror/5.65.2/mode/javascript/javascript.min.js\"></script>\n",
        "<section>\n",
        "<textarea id=\"code-editor\"></textarea>\n",
        "</section>\n",
        "<div>\n",
        "<button onclick=\"sendText()\">Submit</button>\n",
        "<button onclick=\"clearOutput()\">Clear Output</button>\n",
        "</div>\n",
        "<script>\n",
        "  var editor = CodeMirror.fromTextArea(document.getElementById('code-editor'), {\n",
        "    lineNumbers: true,\n",
        "    mode: 'python',\n",
        "    theme: 'default',\n",
        "    viewportMargin: Infinity\n",
        "  });\n",
        "  function sendText() {\n",
        "    const text = editor.getValue();\n",
        "    google.colab.kernel.invokeFunction('notebook.save_text', [text], {});\n",
        "  };\n",
        "  function clearOutput() {\n",
        "\n",
        "    google.colab.kernel.invokeFunction('notebook.clear_output', [], {});\n",
        "  }\n",
        "\n",
        "\n",
        "</script>\n",
        "\"\"\"\n",
        "\n",
        "\n",
        "\n",
        "def save_text(text):\n",
        "    file_path = '/content/_1101.py'\n",
        "    with open(file_path, 'w') as file:\n",
        "        file.write(text)\n",
        "    code_check('_1101.py')\n",
        "output.register_callback('notebook.save_text', save_text)\n",
        "\n",
        "def clear_output():\n",
        "    output.clear()\n",
        "    display(HTML(question + code_editor))\n",
        "output.register_callback('notebook.clear_output', clear_output)\n",
        "\n",
        "\n",
        "\n",
        "# HTML 코드 출력\n",
        "display(HTML(question + code_editor))\n"
      ],
      "metadata": {
        "id": "KN2l5s4nolvi"
      },
      "execution_count": null,
      "outputs": []
    },
    {
      "cell_type": "code",
      "source": [
        "# 이 함수는 문제를 출력하면서, 파일 이름을 file_name 변수에 저장함.\n",
        "\n",
        "def Question(question_file) :\n",
        "  global file_name\n",
        "  global matched_dicts\n",
        "  global code_editor\n",
        "  search_question = question_file\n",
        "  matched_dicts = [d for d in test_set if d['question'] == search_question]\n",
        "  file_name = matched_dicts[0]['test_file']\n",
        "\n",
        "  # file_type = matched_dicts[0]['type']\n",
        "\n",
        "  code_editor = \"\"\"\n",
        "\n",
        "  <HR>\n",
        "  <h2 style=\"background-color:yellow;\"> 코드 작성 </h2>\n",
        "\n",
        "  <link rel=\"stylesheet\" href=\"https://cdnjs.cloudflare.com/ajax/libs/codemirror/5.65.2/codemirror.min.css\">\n",
        "  <script src=\"https://cdnjs.cloudflare.com/ajax/libs/codemirror/5.65.2/codemirror.min.js\"></script>\n",
        "  <script src=\"https://cdnjs.cloudflare.com/ajax/libs/codemirror/5.65.2/mode/javascript/javascript.min.js\"></script>\n",
        "  <section>\n",
        "  <textarea id=\"code-editor\"></textarea>\n",
        "  </section>\n",
        "  <div>\n",
        "  <button onclick=\"sendText()\">Submit</button>\n",
        "  <button onclick=\"clearOutput()\">Clear Output</button>\n",
        "  </div>\n",
        "  <script>\n",
        "    var editor = CodeMirror.fromTextArea(document.getElementById('code-editor'), {\n",
        "      lineNumbers: true,\n",
        "      mode: 'python',\n",
        "      theme: 'default',\n",
        "      viewportMargin: Infinity\n",
        "    });\n",
        "    function sendText() {\n",
        "      const text = editor.getValue();\n",
        "      google.colab.kernel.invokeFunction('notebook.save_text', [text], {});\n",
        "    };\n",
        "    function clearOutput() {\n",
        "\n",
        "      google.colab.kernel.invokeFunction('notebook.clear_output', [], {});\n",
        "    }\n",
        "\n",
        "\n",
        "  </script>\n",
        "  \"\"\"\n",
        "\n",
        "\n",
        "  display(HTML(question_file+code_editor))\n",
        "\n",
        "def save_text(text):\n",
        "  global file_name\n",
        "  file_path = '/content/'+file_name\n",
        "  with open(file_path, 'w') as file:\n",
        "    file.write(text)\n",
        "  code_check(file_name)\n",
        "output.register_callback('notebook.save_text', save_text)\n",
        "\n",
        "def clear_output():\n",
        "  global matched_dicts\n",
        "  global code_editor\n",
        "  output.clear()\n",
        "  display(HTML(matched_dicts[0]['question'] + code_editor))\n",
        "  # output.clear()\n",
        "  # display(HTML(matched_dicts[0]['question'] + code_editor))\n",
        "output.register_callback('notebook.clear_output', clear_output)"
      ],
      "metadata": {
        "id": "sCBGSyJGqMv_"
      },
      "execution_count": null,
      "outputs": []
    },
    {
      "cell_type": "code",
      "source": [
        "# 완성\n",
        "\n",
        "def Question(question_file) :\n",
        "  search_question = question_file\n",
        "  matched_dicts = [d for d in test_set if d['question'] == search_question]\n",
        "  file_name = matched_dicts[0]['test_file']\n",
        "\n",
        "  # file_type = matched_dicts[0]['type']\n",
        "\n",
        "  code_editor = \"\"\"\n",
        "  <div style = \"clear : both\"></div>\n",
        "\n",
        "  <HR>\n",
        "  <h2 style=\"background-color:yellow;\"> 코드 작성 </h2>\n",
        "\n",
        "  <link rel=\"stylesheet\" href=\"https://cdnjs.cloudflare.com/ajax/libs/codemirror/5.65.2/codemirror.min.css\">\n",
        "  <script src=\"https://cdnjs.cloudflare.com/ajax/libs/codemirror/5.65.2/codemirror.min.js\"></script>\n",
        "  <script src=\"https://cdnjs.cloudflare.com/ajax/libs/codemirror/5.65.2/mode/python/python.min.js\"></script>\n",
        "  <style>\n",
        "    .CodeMirror {\n",
        "    height: 200px;\n",
        "    border: 1px solid #ccc;\n",
        "    border-radius: 5px;\n",
        "    }\n",
        "  </style>\n",
        "  <div>\n",
        "  <textarea id=\"code-editor\"></textarea>\n",
        "  </div>\n",
        "  <div id=\"control-buttons\">\n",
        "    <button onclick=\"sendText()\">Submit</button>\n",
        "    <button onclick=\"clearOutput()\">Clear Output</button>\n",
        "  </div>\n",
        "  <script>\n",
        "    var editor = CodeMirror.fromTextArea(document.getElementById('code-editor'), {\n",
        "      lineNumbers: true,\n",
        "      mode: 'python',\n",
        "      theme: 'default',\n",
        "      viewportMargin: Infinity,\n",
        "      inputstyle: 'textarea'\n",
        "    });\n",
        "    function sendText() {\n",
        "      const text = editor.getValue();\n",
        "      google.colab.kernel.invokeFunction('notebook.save_text', [text], {});\n",
        "    };\n",
        "    function clearOutput() {\n",
        "\n",
        "      google.colab.kernel.invokeFunction('notebook.clear_output', [], {});\n",
        "    }\n",
        "\n",
        "\n",
        "\n",
        "  </script>\n",
        "  \"\"\"\n",
        "\n",
        "\n",
        "  def save_text(text):\n",
        "    file_path = '/content/'+file_name\n",
        "    with open(file_path, 'w') as file:\n",
        "      file.write(text)\n",
        "    code_check(file_name)\n",
        "  output.register_callback('notebook.save_text', save_text)\n",
        "\n",
        "  def clear_output():\n",
        "    output.clear()\n",
        "    display(HTML(matched_dicts[0]['question'] + code_editor))\n",
        "  output.register_callback('notebook.clear_output', clear_output)\n",
        "\n",
        "  display(HTML(question_file+code_editor))\n"
      ],
      "metadata": {
        "id": "CY4hHvO5qeAH"
      },
      "execution_count": 3,
      "outputs": []
    },
    {
      "cell_type": "code",
      "source": [
        "Question(question_1101)"
      ],
      "metadata": {
        "id": "ARoymfBSvrHl",
        "colab": {
          "base_uri": "https://localhost:8080/",
          "height": 593
        },
        "outputId": "d10ad46b-5dc6-4a30-963c-8ea5485f6841"
      },
      "execution_count": 4,
      "outputs": [
        {
          "output_type": "display_data",
          "data": {
            "text/plain": [
              "<IPython.core.display.HTML object>"
            ],
            "text/html": [
              "<h2 style = \"background-color:yellow; \">문제 설명</h2>\n",
              "<p>5.24에서 자연수 부분을 출력해봅시다.</p>\n",
              "<HR>\n",
              "<h2> 입력\n",
              "</h2>\n",
              "<p>없음</p>\n",
              "<h2> 출력\n",
              "</h2>\n",
              "<p>자연수에 해당하는 숫자를 출력합니다.</p>\n",
              "<HR>\n",
              "<div style = \"float:left;width:50%\">\n",
              "<h2> 입력 예시 </h2>\n",
              "<p>없음</p>\n",
              "</div>\n",
              "<div style = \"float:right;width:50%\">\n",
              "<h2> 출력 예시 </h2>\n",
              "<p>5.24에서 자연수 부분</p>\n",
              "</div>\n",
              "\n",
              "  <div style = \"clear : both\"></div>\n",
              "\n",
              "  <HR>\n",
              "  <h2 style=\"background-color:yellow;\"> 코드 작성 </h2>\n",
              "\n",
              "  <link rel=\"stylesheet\" href=\"https://cdnjs.cloudflare.com/ajax/libs/codemirror/5.65.2/codemirror.min.css\">\n",
              "  <script src=\"https://cdnjs.cloudflare.com/ajax/libs/codemirror/5.65.2/codemirror.min.js\"></script>\n",
              "  <script src=\"https://cdnjs.cloudflare.com/ajax/libs/codemirror/5.65.2/mode/python/python.min.js\"></script>\n",
              "  <style>\n",
              "    .CodeMirror {\n",
              "    height: 200px;\n",
              "    border: 1px solid #ccc;\n",
              "    border-radius: 5px;\n",
              "    }\n",
              "  </style>\n",
              "  <div>\n",
              "  <textarea id=\"code-editor\"></textarea>\n",
              "  </div>\n",
              "  <div id=\"control-buttons\">\n",
              "    <button onclick=\"sendText()\">Submit</button>\n",
              "    <button onclick=\"clearOutput()\">Clear Output</button>\n",
              "  </div>\n",
              "  <script>\n",
              "    var editor = CodeMirror.fromTextArea(document.getElementById('code-editor'), {\n",
              "      lineNumbers: true,\n",
              "      mode: 'python',\n",
              "      theme: 'default',\n",
              "      viewportMargin: Infinity,\n",
              "      inputstyle: 'textarea'\n",
              "    });\n",
              "    function sendText() {\n",
              "      const text = editor.getValue();\n",
              "      google.colab.kernel.invokeFunction('notebook.save_text', [text], {});\n",
              "    };\n",
              "    function clearOutput() {\n",
              "\n",
              "      google.colab.kernel.invokeFunction('notebook.clear_output', [], {});\n",
              "    }\n",
              "\n",
              "\n",
              "\n",
              "  </script>\n",
              "  "
            ]
          },
          "metadata": {}
        }
      ]
    },
    {
      "cell_type": "code",
      "source": [
        "print(question_6302)"
      ],
      "metadata": {
        "id": "q1mDRMRY6twb"
      },
      "execution_count": null,
      "outputs": []
    },
    {
      "cell_type": "code",
      "source": [
        "Question(question_6302)"
      ],
      "metadata": {
        "colab": {
          "base_uri": "https://localhost:8080/",
          "height": 856
        },
        "id": "BQ8eUTfQsJut",
        "outputId": "3e9ae37e-25aa-4332-a218-92047d26b87e"
      },
      "execution_count": null,
      "outputs": [
        {
          "output_type": "display_data",
          "data": {
            "text/plain": [
              "<IPython.core.display.HTML object>"
            ],
            "text/html": [
              "<h2 style = \"background-color:yellow; \">문제 설명</h2>\n",
              "<p>숫자와 글자를 순서대로 입력받습니다.</p>\n",
              "<p>입력받은 <span style = \"background-color:\t#E0E0E0;\">십만 자리 숫자</span>를 입력받은 <span style = \"background-color:\t#E0E0E0;\">글자</span>에 맞게 올림 또는 내림하여 만 자리까지 나타내는 프로그램을 만들어봅시다.</p>\n",
              "<HR>\n",
              "<h2> 입력\n",
              "</h2>\n",
              "<p>첫째 줄에 십만 자리 숫자가 입력되고, 둘째 줄에 올림 또는 내림이 입력됩니다.</p>\n",
              "<h2> 출력\n",
              "</h2>\n",
              "<p>올림 또는 내림하여 만의 자리 까지 나타낸 수를 출력합니다.</p>\n",
              "<HR>\n",
              "<div style = \"float:left;width:50%\">\n",
              "<h2> 입력 예시 </h2>\n",
              "<p>123421</p>\n",
              "<p>올림</p>\n",
              "</div>\n",
              "<div style = \"float:right;width:50%\">\n",
              "<h2> 출력 예시 </h2>\n",
              "<p>130000</p>\n",
              "</div>\n",
              " \n",
              "  <div style = \"clear : both\"></div>\n",
              "\n",
              "  <HR>\n",
              "  <h2 style=\"background-color:yellow;\"> 코드 작성 </h2>\n",
              "\n",
              "  <link rel=\"stylesheet\" href=\"https://cdnjs.cloudflare.com/ajax/libs/codemirror/5.65.2/codemirror.min.css\">\n",
              "  <script src=\"https://cdnjs.cloudflare.com/ajax/libs/codemirror/5.65.2/codemirror.min.js\"></script>\n",
              "  <script src=\"https://cdnjs.cloudflare.com/ajax/libs/codemirror/5.65.2/mode/python/python.min.js\"></script>\n",
              "  <style>\n",
              "    .CodeMirror {\n",
              "    height: 200px;\n",
              "    border: 1px solid #ccc;\n",
              "    border-radius: 5px;\n",
              "    }\n",
              "  </style>\n",
              "  <div>\n",
              "  <textarea id=\"code-editor\"></textarea>\n",
              "  </div>\n",
              "  <div>\n",
              "  <button onclick=\"sendText()\">Submit</button>\n",
              "  <button onclick=\"clearOutput()\">Clear Output</button>\n",
              "  </div>\n",
              "  <script>\n",
              "    var editor = CodeMirror.fromTextArea(document.getElementById('code-editor'), {\n",
              "      lineNumbers: true,\n",
              "      mode: 'python',\n",
              "      theme: 'default',\n",
              "      viewportMargin: Infinity,\n",
              "      inputstyle: 'textarea'\n",
              "    });\n",
              "    function sendText() {\n",
              "      const text = editor.getValue();\n",
              "      google.colab.kernel.invokeFunction('notebook.save_text', [text], {});\n",
              "    };\n",
              "    function clearOutput(outputID = 'test') {\n",
              "      var element = document.getElementById(outputId);\n",
              "      if (element) {\n",
              "          element.parentNode.removeChild(element);\n",
              "      }\n",
              "    };\n",
              "    \n",
              "\n",
              "\n",
              "  </script>\n",
              "  "
            ]
          },
          "metadata": {}
        },
        {
          "output_type": "display_data",
          "data": {
            "text/plain": [
              "<IPython.core.display.HTML object>"
            ],
            "text/html": [
              "<div id = 'test'>"
            ]
          },
          "metadata": {}
        },
        {
          "output_type": "display_data",
          "data": {
            "text/plain": [
              "<IPython.core.display.HTML object>"
            ],
            "text/html": [
              "<h2 style = \"background-color:yellow\">결과 확인</h2>"
            ]
          },
          "metadata": {}
        },
        {
          "output_type": "stream",
          "name": "stdout",
          "text": [
            "1 번째 줄에 띄어쓰기를 확인해주세요.\n",
            "========================================\n",
            "\u001b[38;2;255;0;0m\tqwe\u001b[0m\n"
          ]
        },
        {
          "output_type": "display_data",
          "data": {
            "text/plain": [
              "<IPython.core.display.HTML object>"
            ],
            "text/html": [
              "<div id = 'test'>"
            ]
          },
          "metadata": {}
        },
        {
          "output_type": "display_data",
          "data": {
            "text/plain": [
              "<IPython.core.display.HTML object>"
            ],
            "text/html": [
              "<h2 style = \"background-color:yellow\">결과 확인</h2>"
            ]
          },
          "metadata": {}
        },
        {
          "output_type": "stream",
          "name": "stdout",
          "text": [
            "1 번째 줄에 띄어쓰기를 확인해주세요.\n",
            "========================================\n",
            "\u001b[38;2;255;0;0m\tqwe\u001b[0m\n"
          ]
        }
      ]
    },
    {
      "cell_type": "code",
      "source": [
        "# 버튼을 눌렀을 때 특정 id를 삭제하도록 해야 함."
      ],
      "metadata": {
        "id": "LloEVT3aeFRQ"
      },
      "execution_count": null,
      "outputs": []
    },
    {
      "cell_type": "markdown",
      "source": [
        "# HTML 캔버스\n"
      ],
      "metadata": {
        "id": "eIgiBf7vmV6_"
      }
    },
    {
      "cell_type": "code",
      "source": [
        "# @title\n",
        "# 스타일러스 펜 사용\n",
        "\n",
        "from IPython.display import display, HTML\n",
        "\n",
        "html_code = \"\"\"\n",
        "<canvas id=\"canvas\"></canvas>\n",
        "<style>\n",
        "    canvas {\n",
        "        border: 1px solid black;\n",
        "        touch-action: none; /* 스크롤 및 줌 제스처 방지 */\n",
        "    }\n",
        "</style>\n",
        "<script>\n",
        "    const canvas = document.getElementById('canvas');\n",
        "    const ctx = canvas.getContext('2d');\n",
        "    let isDrawing = false;\n",
        "\n",
        "    canvas.width = 800;\n",
        "    canvas.height = 600;\n",
        "\n",
        "    function preventBehavior(e) {\n",
        "        e.preventDefault();\n",
        "    }\n",
        "\n",
        "    canvas.addEventListener('pointerdown', function(e) {\n",
        "        if (e.pointerType === 'pen') {\n",
        "            isDrawing = true;\n",
        "            ctx.beginPath();\n",
        "            ctx.moveTo(e.clientX - canvas.offsetLeft, e.clientY - canvas.offsetTop);\n",
        "            canvas.addEventListener('pointermove', onPaint, false);\n",
        "        }\n",
        "    });\n",
        "\n",
        "    canvas.addEventListener('pointerup', function(e) {\n",
        "        if (e.pointerType === 'pen') {\n",
        "            isDrawing = false;\n",
        "            canvas.removeEventListener('pointermove', onPaint, false);\n",
        "        }\n",
        "    });\n",
        "\n",
        "    canvas.addEventListener('touchstart', preventBehavior, {passive: false});\n",
        "    canvas.addEventListener('touchend', preventBehavior, {passive: false});\n",
        "    canvas.addEventListener('touchmove', preventBehavior, {passive: false});\n",
        "\n",
        "    var onPaint = function(e) {\n",
        "        if (isDrawing) {\n",
        "            ctx.lineTo(e.clientX - canvas.offsetLeft, e.clientY - canvas.offsetTop);\n",
        "            ctx.stroke();\n",
        "        }\n",
        "    };\n",
        "</script>\n",
        "\"\"\"\n",
        "\n",
        "display(HTML(html_code))\n"
      ],
      "metadata": {
        "colab": {
          "base_uri": "https://localhost:8080/",
          "height": 623
        },
        "id": "J-ii5IQ8m1rL",
        "outputId": "f7c03a33-8e7e-4d8a-ce56-5a96bebb15cc",
        "cellView": "form"
      },
      "execution_count": null,
      "outputs": [
        {
          "output_type": "display_data",
          "data": {
            "text/plain": [
              "<IPython.core.display.HTML object>"
            ],
            "text/html": [
              "\n",
              "<canvas id=\"canvas\"></canvas>\n",
              "<style>\n",
              "    canvas {\n",
              "        border: 1px solid black;\n",
              "        touch-action: none; /* 스크롤 및 줌 제스처 방지 */\n",
              "    }\n",
              "</style>\n",
              "<script>\n",
              "    const canvas = document.getElementById('canvas');\n",
              "    const ctx = canvas.getContext('2d');\n",
              "    let isDrawing = false;\n",
              "\n",
              "    canvas.width = 800;\n",
              "    canvas.height = 600;\n",
              "\n",
              "    function preventBehavior(e) {\n",
              "        e.preventDefault();\n",
              "    }\n",
              "\n",
              "    canvas.addEventListener('pointerdown', function(e) {\n",
              "        if (e.pointerType === 'pen') {\n",
              "            isDrawing = true;\n",
              "            ctx.beginPath();\n",
              "            ctx.moveTo(e.clientX - canvas.offsetLeft, e.clientY - canvas.offsetTop);\n",
              "            canvas.addEventListener('pointermove', onPaint, false);\n",
              "        }\n",
              "    });\n",
              "\n",
              "    canvas.addEventListener('pointerup', function(e) {\n",
              "        if (e.pointerType === 'pen') {\n",
              "            isDrawing = false;\n",
              "            canvas.removeEventListener('pointermove', onPaint, false);\n",
              "        }\n",
              "    });\n",
              "\n",
              "    canvas.addEventListener('touchstart', preventBehavior, {passive: false});\n",
              "    canvas.addEventListener('touchend', preventBehavior, {passive: false});\n",
              "    canvas.addEventListener('touchmove', preventBehavior, {passive: false});\n",
              "\n",
              "    var onPaint = function(e) {\n",
              "        if (isDrawing) {\n",
              "            ctx.lineTo(e.clientX - canvas.offsetLeft, e.clientY - canvas.offsetTop);\n",
              "            ctx.stroke();\n",
              "        }\n",
              "    };\n",
              "</script>\n"
            ]
          },
          "metadata": {}
        }
      ]
    },
    {
      "cell_type": "markdown",
      "source": [
        "# 버튼으로 다른 엘리멘트 제거하는 방법\n",
        "다양한 시도들 ...\n"
      ],
      "metadata": {
        "id": "WQrbcjP4oXMA"
      }
    },
    {
      "cell_type": "code",
      "source": [
        "from IPython.display import display, HTML\n",
        "\n",
        "# 첫 번째 출력: HTML 요소를 생성\n",
        "html_content = \"\"\"\n",
        "<div id='asdf'>This is a test div.</div>\n",
        "<div id='aaa'>This is another test div.</div>\n",
        "<div id='bbb'>This is another test div.</div>\n",
        "<div id='ccc'>This is another test div.</div>\n",
        "\"\"\"\n",
        "display(HTML(html_content))\n",
        "\n",
        "# 두 번째 출력: JavaScript를 통해 첫 번째 요소에 접근\n",
        "script_content = \"\"\"\n",
        "<div id = \"control-buttons\">\n",
        "  <button onclick=\"deleteOutput('asdf')\">Delete this output</button>\n",
        "</div>\n",
        "\n",
        "<script>\n",
        "  function deleteOutput(id) {\n",
        "    var element = document.getElementById(id);\n",
        "    element.innerHTML = '';  // 결과 출력 div를 비웁니다.\n",
        "  }\n",
        "\n",
        "</script>\n",
        "\"\"\"\n",
        "display(HTML(script_content))\n"
      ],
      "metadata": {
        "colab": {
          "base_uri": "https://localhost:8080/",
          "height": 89
        },
        "id": "hTNxObGToW9F",
        "outputId": "9ec05f84-848b-41bc-86a5-560a24c65ab4"
      },
      "execution_count": null,
      "outputs": [
        {
          "output_type": "display_data",
          "data": {
            "text/plain": [
              "<IPython.core.display.HTML object>"
            ],
            "text/html": [
              "\n",
              "<div id='asdf'>This is a test div.</div>\n",
              "<div id='aaa'>This is another test div.</div>\n",
              "<div id='bbb'>This is another test div.</div>\n",
              "<div id='ccc'>This is another test div.</div>\n"
            ]
          },
          "metadata": {}
        },
        {
          "output_type": "display_data",
          "data": {
            "text/plain": [
              "<IPython.core.display.HTML object>"
            ],
            "text/html": [
              "\n",
              "<div id = \"control-buttons\">\n",
              "  <button onclick=\"deleteOutput('asdf')\">Delete this output</button>\n",
              "</div>\n",
              "\n",
              "<script>\n",
              "  function deleteOutput(id) {\n",
              "    var element = document.getElementById(id);\n",
              "    element.innerHTML = '';  // 결과 출력 div를 비웁니다.\n",
              "  }\n",
              "\n",
              "</script>\n"
            ]
          },
          "metadata": {}
        }
      ]
    },
    {
      "cell_type": "code",
      "source": [
        "from IPython.display import display, HTML\n",
        "\n",
        "# 첫 번째 출력: HTML 요소를 생성\n",
        "html_content = \"\"\"\n",
        "<div id='asdf'>This is a test div.</div>\n",
        "<div id='aaa'>This is another test div.</div>\n",
        "<div id='bbb'>This is another test div.</div>\n",
        "<div id='ccc'>This is another test div.</div>\n",
        "\"\"\"\n",
        "display(HTML(html_content))\n",
        "\n",
        "# 두 번째 출력: JavaScript를 통해 첫 번째 요소에 접근\n",
        "script_content = \"\"\"\n",
        "<div id = \"control-buttons\">\n",
        "  <button onclick=\"deleteOutput('aaa')\">Delete this output</button>\n",
        "</div>\n",
        "\n",
        "<script>\n",
        "  function deleteOutput(exceptId) {\n",
        "    // 모든 요소를 선택\n",
        "    var allElements = document.querySelectorAll('*');\n",
        "    // ID를 저장할 배열 초기화\n",
        "    var ids = [];\n",
        "\n",
        "    // 모든 요소를 순회\n",
        "    allElements.forEach(function(element) {\n",
        "        if (element.id) { // 요소가 ID를 가지고 있으면\n",
        "            ids.push(element.id); // 배열에 ID 추가\n",
        "        }\n",
        "    });\n",
        "\n",
        "    alert(ids); // 콘솔에 ID 목록 출력\n",
        "  }\n",
        "\n",
        "\n",
        "</script>\n",
        "\"\"\"\n",
        "display(HTML(script_content))"
      ],
      "metadata": {
        "colab": {
          "base_uri": "https://localhost:8080/",
          "height": 107
        },
        "id": "OZMu0rfRb1Ms",
        "outputId": "f535b6b1-c49e-4318-b0bf-80c5a4d65a0b"
      },
      "execution_count": null,
      "outputs": [
        {
          "output_type": "display_data",
          "data": {
            "text/plain": [
              "<IPython.core.display.HTML object>"
            ],
            "text/html": [
              "\n",
              "<div id='asdf'>This is a test div.</div>\n",
              "<div id='aaa'>This is another test div.</div>\n",
              "<div id='bbb'>This is another test div.</div>\n",
              "<div id='ccc'>This is another test div.</div>\n"
            ]
          },
          "metadata": {}
        },
        {
          "output_type": "display_data",
          "data": {
            "text/plain": [
              "<IPython.core.display.HTML object>"
            ],
            "text/html": [
              "\n",
              "<div id = \"control-buttons\">\n",
              "  <button onclick=\"deleteOutput('aaa')\">Delete this output</button>\n",
              "</div>\n",
              "\n",
              "<script>\n",
              "    // 모든 요소를 선택\n",
              "    var allElements = document.querySelectorAll('*');\n",
              "    // ID를 저장할 배열 초기화\n",
              "    var ids = [];\n",
              "\n",
              "    // 모든 요소를 순회\n",
              "    allElements.forEach(function(element) {\n",
              "        if (element.id) { // 요소가 ID를 가지고 있으면\n",
              "            ids.push(element.id); // 배열에 ID 추가\n",
              "        }\n",
              "    });\n",
              "\n",
              "    // \"output\" 문자열을 제외하고 ID 필터링\n",
              "    var filteredIds = ids.filter(function(id) {\n",
              "        return !id.includes('output');\n",
              "    });\n",
              "\n",
              "    alert(filteredIds); // 콘솔에 필터링된 ID 목록 출력\n",
              "\n",
              "\n",
              "</script>\n"
            ]
          },
          "metadata": {}
        }
      ]
    },
    {
      "cell_type": "code",
      "source": [
        "from IPython.display import display, HTML\n",
        "\n",
        "# 첫 번째 출력: HTML 요소를 생성\n",
        "html_content = \"\"\"\n",
        "<div id='asdf'>This is a test div.</div>\n",
        "<div id='aaa'>This is another test div.</div>\n",
        "<div id='bbb'>This is another test div.</div>\n",
        "<div id='ccc'>This is another test div.</div>\n",
        "\"\"\"\n",
        "display(HTML(html_content))\n",
        "\n",
        "# 두 번째 출력: JavaScript를 통해 첫 번째 요소에 접근\n",
        "script_content = \"\"\"\n",
        "<div id = \"control-buttons\">\n",
        "  <button onclick=\"deleteOutput()\">Delete this output</button>\n",
        "</div>\n",
        "\n",
        "<script>\n",
        "// 모든 요소를 선택\n",
        "    var allElements = document.querySelectorAll('*');\n",
        "    // ID를 저장할 배열 초기화\n",
        "    var ids = [];\n",
        "\n",
        "    // 모든 요소를 순회\n",
        "    allElements.forEach(function(element) {\n",
        "        if (element.id) { // 요소가 ID를 가지고 있으면\n",
        "            ids.push(element.id); // 배열에 ID 추가\n",
        "        }\n",
        "    });\n",
        "\n",
        "    // \"output\" 문자열을 제외하고 ID 필터링\n",
        "    var filteredIds = ids.filter(function(id) {\n",
        "        return !id.includes('output');\n",
        "    });\n",
        "\n",
        "    alert(filteredIds.length); // 콘솔에 필터링된 ID 목록 출력\n",
        "\n",
        "    function deleteOutput() {\n",
        "      var element = document.getElementById(filteredIds[filteredIds.length-1]);\n",
        "      element.innerHTML = '';  // 결과 출력 div를 비웁니다.\n",
        "    }\n",
        "\n",
        "</script>\n",
        "\"\"\"\n",
        "display(HTML(script_content))"
      ],
      "metadata": {
        "colab": {
          "base_uri": "https://localhost:8080/",
          "height": 86
        },
        "id": "e4Qd4ulCbZt-",
        "outputId": "2c27f7fd-8d8b-4300-cc0b-c7248f91ba5a"
      },
      "execution_count": null,
      "outputs": [
        {
          "output_type": "display_data",
          "data": {
            "text/plain": [
              "<IPython.core.display.HTML object>"
            ],
            "text/html": [
              "\n",
              "<div id='asdf'>This is a test div.</div>\n",
              "<div id='aaa'>This is another test div.</div>\n",
              "<div id='bbb'>This is another test div.</div>\n",
              "<div id='ccc'>This is another test div.</div>\n"
            ]
          },
          "metadata": {}
        },
        {
          "output_type": "display_data",
          "data": {
            "text/plain": [
              "<IPython.core.display.HTML object>"
            ],
            "text/html": [
              "\n",
              "<div id = \"control-buttons\">\n",
              "  <button onclick=\"deleteOutput()\">Delete this output</button>\n",
              "</div>\n",
              "\n",
              "<script>\n",
              "// 모든 요소를 선택\n",
              "    var allElements = document.querySelectorAll('*');\n",
              "    // ID를 저장할 배열 초기화\n",
              "    var ids = [];\n",
              "\n",
              "    // 모든 요소를 순회\n",
              "    allElements.forEach(function(element) {\n",
              "        if (element.id) { // 요소가 ID를 가지고 있으면\n",
              "            ids.push(element.id); // 배열에 ID 추가\n",
              "        }\n",
              "    });\n",
              "\n",
              "    // \"output\" 문자열을 제외하고 ID 필터링\n",
              "    var filteredIds = ids.filter(function(id) {\n",
              "        return !id.includes('output');\n",
              "    });\n",
              "\n",
              "    alert(filteredIds.length); // 콘솔에 필터링된 ID 목록 출력\n",
              "\n",
              "    function deleteOutput() {\n",
              "      var element = document.getElementById(filteredIds[filteredIds.length-1]);\n",
              "      element.innerHTML = '';  // 결과 출력 div를 비웁니다.\n",
              "    }\n",
              "\n",
              "</script>\n"
            ]
          },
          "metadata": {}
        }
      ]
    },
    {
      "cell_type": "code",
      "source": [
        "from IPython.display import display, HTML\n",
        "\n",
        "# 첫 번째 출력: HTML 요소를 생성\n",
        "html_content = \"\"\"\n",
        "<div id='asdf'>This is a test div.</div>\n",
        "<div id='aaa'>This is aaa test div.</div>\n",
        "<div id='bbb'>This is bbb test div.</div>\n",
        "<div id='ccc'>This is ccc test div.</div>\n",
        "\"\"\"\n",
        "display(HTML(html_content))\n",
        "\n",
        "# 두 번째 출력: JavaScript를 통해 첫 번째 요소에 접근\n",
        "script_content = \"\"\"\n",
        "<div id = \"control-buttons\">\n",
        "  <button onclick=\"deleteOutput()\">Delete this output</button>\n",
        "</div>\n",
        "\n",
        "<script>\n",
        "// 모든 요소를 선택\n",
        "    var allElements = document.querySelectorAll('*');\n",
        "    // ID를 저장할 배열 초기화\n",
        "    var ids = [];\n",
        "\n",
        "    // 모든 요소를 순회\n",
        "    allElements.forEach(function(element) {\n",
        "        if (element.id) { // 요소가 ID를 가지고 있으면\n",
        "            ids.push(element.id); // 배열에 ID 추가\n",
        "        }\n",
        "    });\n",
        "\n",
        "    // \"output\" 문자열을 제외하고 ID 필터링\n",
        "    var filteredIds = ids.filter(function(id) {\n",
        "        return !id.includes('output');\n",
        "    });\n",
        "\n",
        "    alert(filteredIds.length); // 콘솔에 필터링된 ID 목록 출력\n",
        "\n",
        "    function deleteOutput() {\n",
        "      var element = document.getElementById(filteredIds[filteredIds.length-1]);\n",
        "      element.innerHTML = '';  // 결과 출력 div를 비웁니다.\n",
        "    }\n",
        "\n",
        "</script>\n",
        "\"\"\"\n",
        "display(HTML(script_content))\n",
        "\n",
        "html_content = \"\"\"\n",
        "<div id='dd'>This is a test div.</div>\n",
        "<div id='cc'>This is aaa test div.</div>\n",
        "<div id='ee'>This is bbb test div.</div>\n",
        "<div id='gg'>This is ccc test div.</div>\n",
        "\"\"\"\n",
        "display(HTML(html_content))"
      ],
      "metadata": {
        "id": "iMBmyE4XgNbf",
        "colab": {
          "base_uri": "https://localhost:8080/",
          "height": 176
        },
        "outputId": "c8e521a5-e3b1-45eb-a1e9-33fe52700503"
      },
      "execution_count": null,
      "outputs": [
        {
          "output_type": "display_data",
          "data": {
            "text/plain": [
              "<IPython.core.display.HTML object>"
            ],
            "text/html": [
              "\n",
              "<div id='asdf'>This is a test div.</div>\n",
              "<div id='aaa'>This is aaa test div.</div>\n",
              "<div id='bbb'>This is bbb test div.</div>\n",
              "<div id='ccc'>This is ccc test div.</div>\n"
            ]
          },
          "metadata": {}
        },
        {
          "output_type": "display_data",
          "data": {
            "text/plain": [
              "<IPython.core.display.HTML object>"
            ],
            "text/html": [
              "\n",
              "<div id = \"control-buttons\">\n",
              "  <button onclick=\"deleteOutput()\">Delete this output</button>\n",
              "</div>\n",
              "\n",
              "<script>\n",
              "// 모든 요소를 선택\n",
              "    var allElements = document.querySelectorAll('*');\n",
              "    // ID를 저장할 배열 초기화\n",
              "    var ids = [];\n",
              "\n",
              "    // 모든 요소를 순회\n",
              "    allElements.forEach(function(element) {\n",
              "        if (element.id) { // 요소가 ID를 가지고 있으면\n",
              "            ids.push(element.id); // 배열에 ID 추가\n",
              "        }\n",
              "    });\n",
              "\n",
              "    // \"output\" 문자열을 제외하고 ID 필터링\n",
              "    var filteredIds = ids.filter(function(id) {\n",
              "        return !id.includes('output');\n",
              "    });\n",
              "\n",
              "    alert(filteredIds.length); // 콘솔에 필터링된 ID 목록 출력\n",
              "\n",
              "    function deleteOutput() {\n",
              "      var element = document.getElementById(filteredIds[filteredIds.length-1]);\n",
              "      element.innerHTML = '';  // 결과 출력 div를 비웁니다.\n",
              "    }\n",
              "\n",
              "</script>\n"
            ]
          },
          "metadata": {}
        },
        {
          "output_type": "display_data",
          "data": {
            "text/plain": [
              "<IPython.core.display.HTML object>"
            ],
            "text/html": [
              "\n",
              "<div id='dd'>This is a test div.</div>\n",
              "<div id='cc'>This is aaa test div.</div>\n",
              "<div id='ee'>This is bbb test div.</div>\n",
              "<div id='gg'>This is ccc test div.</div>\n"
            ]
          },
          "metadata": {}
        }
      ]
    },
    {
      "cell_type": "markdown",
      "source": [
        "# 버튼으로 평가 결과 제거하는 방법\n",
        "요거 사용하기"
      ],
      "metadata": {
        "id": "G_XmTCS6aX8J"
      }
    },
    {
      "cell_type": "code",
      "source": [
        "# 이거를 question 함수에 추가하기\n",
        "from IPython.display import display, HTML\n",
        "html = \"\"\"\n",
        "<!DOCTYPE html>\n",
        "<html lang=\"en\">\n",
        "<head>\n",
        "    <meta charset=\"UTF-8\">\n",
        "    <title>Result Handling Example</title>\n",
        "</head>\n",
        "<body>\n",
        "    <!-- 평가 시작 버튼 -->\n",
        "    <button id=\"submitBtn\">Submit</button>\n",
        "\n",
        "    <!-- 결과를 표시할 div -->\n",
        "    <div id=\"result\"></div>\n",
        "\n",
        "    <!-- JavaScript 코드 -->\n",
        "    <script>\n",
        "        document.getElementById('submitBtn').addEventListener('click', function() {\n",
        "            // 결과 div에 평가 결과를 표시\n",
        "            var resultDiv = document.getElementById('result');\n",
        "            resultDiv.innerHTML = '<p>Here is the evaluation result.</p>';\n",
        "\n",
        "            // 결과 삭제 버튼 생성 및 설정\n",
        "            var clearButton = document.createElement('button');\n",
        "            clearButton.textContent = 'Clear Results';\n",
        "            clearButton.onclick = function() {\n",
        "                resultDiv.innerHTML = ''; // 결과 내용 삭제\n",
        "                clearButton.remove(); // 삭제 버튼도 제거\n",
        "            };\n",
        "\n",
        "            // 결과 div에 삭제 버튼 추가\n",
        "            resultDiv.appendChild(clearButton);\n",
        "        });\n",
        "    </script>\n",
        "</body>\n",
        "</html>\n",
        "\"\"\"\n",
        "\n",
        "display(HTML(html))"
      ],
      "metadata": {
        "colab": {
          "base_uri": "https://localhost:8080/",
          "height": 89
        },
        "id": "A8gZ8PQd1fJA",
        "outputId": "98948f03-a175-4672-cc72-6cab98375190"
      },
      "execution_count": 2,
      "outputs": [
        {
          "output_type": "display_data",
          "data": {
            "text/plain": [
              "<IPython.core.display.HTML object>"
            ],
            "text/html": [
              "\n",
              "<!DOCTYPE html>\n",
              "<html lang=\"en\">\n",
              "<head>\n",
              "    <meta charset=\"UTF-8\">\n",
              "    <title>Result Handling Example</title>\n",
              "</head>\n",
              "<body>\n",
              "    <!-- 평가 시작 버튼 -->\n",
              "    <button id=\"submitBtn\">Submit</button>\n",
              "\n",
              "    <!-- 결과를 표시할 div -->\n",
              "    <div id=\"result\"></div>\n",
              "\n",
              "    <!-- JavaScript 코드 -->\n",
              "    <script>\n",
              "        document.getElementById('submitBtn').addEventListener('click', function() {\n",
              "            // 결과 div에 평가 결과를 표시\n",
              "            var resultDiv = document.getElementById('result');\n",
              "            resultDiv.innerHTML = '<p>Here is the evaluation result.</p>';\n",
              "\n",
              "            // 결과 삭제 버튼 생성 및 설정\n",
              "            var clearButton = document.createElement('button');\n",
              "            clearButton.textContent = 'Clear Results';\n",
              "            clearButton.onclick = function() {\n",
              "                resultDiv.innerHTML = ''; // 결과 내용 삭제\n",
              "                clearButton.remove(); // 삭제 버튼도 제거\n",
              "            };\n",
              "\n",
              "            // 결과 div에 삭제 버튼 추가\n",
              "            resultDiv.appendChild(clearButton);\n",
              "        });\n",
              "    </script>\n",
              "</body>\n",
              "</html>\n"
            ]
          },
          "metadata": {}
        }
      ]
    },
    {
      "cell_type": "code",
      "source": [
        "# 완성\n",
        "\n",
        "def Question(question_file) :\n",
        "  search_question = question_file\n",
        "  matched_dicts = [d for d in test_set if d['question'] == search_question]\n",
        "  file_name = matched_dicts[0]['test_file']\n",
        "\n",
        "  # file_type = matched_dicts[0]['type']\n",
        "\n",
        "  code_editor = \"\"\"\n",
        "  <link rel=\"stylesheet\" href=\"https://cdnjs.cloudflare.com/ajax/libs/codemirror/5.65.2/codemirror.min.css\">\n",
        "  <script src=\"https://cdnjs.cloudflare.com/ajax/libs/codemirror/5.65.2/codemirror.min.js\"></script>\n",
        "  <script src=\"https://cdnjs.cloudflare.com/ajax/libs/codemirror/5.65.2/mode/python/python.min.js\"></script>\n",
        "  <style>\n",
        "    .CodeMirror {\n",
        "    height: 200px;\n",
        "    border: 1px solid #ccc;\n",
        "    border-radius: 5px;\n",
        "    }\n",
        "  </style>\n",
        "\n",
        "  <div style = \"clear : both\"></div>\n",
        "\n",
        "  <HR>\n",
        "  <h2 style=\"background-color:orange;\"> 코드 작성 </h2>\n",
        "\n",
        "  <div>\n",
        "  <textarea id=\"code-editor\"></textarea>\n",
        "  </div>\n",
        "\n",
        "  <button id=\"submitBtn\">Submit</button>\n",
        "\n",
        "  <div id=\"result\"></div>\n",
        "\n",
        "  <script>\n",
        "    var editor = CodeMirror.fromTextArea(document.getElementById('code-editor'), {\n",
        "      lineNumbers: true,\n",
        "      mode: 'python',\n",
        "      theme: 'default',\n",
        "      viewportMargin: Infinity,\n",
        "      inputstyle: 'textarea'\n",
        "    });\n",
        "\n",
        "  document.getElementById('submitBtn').addEventListener('click', function() {\n",
        "    // 결과 div에 평가 결과를 표시\n",
        "    var resultDiv = document.getElementById('result');\n",
        "    const text = editor.getValue();\n",
        "    resultDiv.innerHTML = google.colab.kernel.invokeFunction('notebook.save_text', [text], {});\n",
        "\n",
        "    // 결과 삭제 버튼 생성 및 설정\n",
        "    var clearButton = document.createElement('button');\n",
        "    clearButton.textContent = 'Clear Results';\n",
        "    clearButton.onclick = function() {\n",
        "        resultDiv.innerHTML = ''; // 결과 내용 삭제\n",
        "        clearButton.remove(); // 삭제 버튼도 제거\n",
        "    };\n",
        "\n",
        "    // 결과 div에 삭제 버튼 추가\n",
        "    resultDiv.appendChild(clearButton);\n",
        "  });\n",
        "\n",
        "//    function sendText() {\n",
        "//      const text = editor.getValue();\n",
        "//      google.colab.kernel.invokeFunction('notebook.save_text', [text], {});\n",
        "//    };\n",
        "\n",
        "\n",
        "\n",
        "\n",
        "\n",
        "  </script>\n",
        "  \"\"\"\n",
        "\n",
        "\n",
        "  def save_text(text):\n",
        "    file_path = '/content/'+file_name\n",
        "    with open(file_path, 'w') as file:\n",
        "      file.write(text)\n",
        "    code_check(file_name)\n",
        "  output.register_callback('notebook.save_text', save_text)\n",
        "\n",
        "  def clear_output():\n",
        "    output.clear()\n",
        "    display(HTML(matched_dicts[0]['question'] + code_editor))\n",
        "  output.register_callback('notebook.clear_output', clear_output)\n",
        "\n",
        "  display(HTML(question_file+code_editor))\n"
      ],
      "metadata": {
        "id": "mtOUGzG41kRu"
      },
      "execution_count": 3,
      "outputs": []
    },
    {
      "cell_type": "code",
      "source": [
        "Question(question_1101)"
      ],
      "metadata": {
        "colab": {
          "base_uri": "https://localhost:8080/",
          "height": 710
        },
        "id": "bgl-2uaKbNgv",
        "outputId": "d44c5f0f-1ce4-4f9f-a8bb-24e705d95b38"
      },
      "execution_count": 4,
      "outputs": [
        {
          "output_type": "display_data",
          "data": {
            "text/plain": [
              "<IPython.core.display.HTML object>"
            ],
            "text/html": [
              "<h2 style = \"background-color:yellow; \">문제 설명</h2>\n",
              "<p>5.24에서 자연수 부분을 출력해봅시다.</p>\n",
              "<HR>\n",
              "<h2> 입력\n",
              "</h2>\n",
              "<p>없음</p>\n",
              "<h2> 출력\n",
              "</h2>\n",
              "<p>자연수에 해당하는 숫자를 출력합니다.</p>\n",
              "<HR>\n",
              "<div style = \"float:left;width:50%\">\n",
              "<h2> 입력 예시 </h2>\n",
              "<p>없음</p>\n",
              "</div>\n",
              "<div style = \"float:right;width:50%\">\n",
              "<h2> 출력 예시 </h2>\n",
              "<p>5.24에서 자연수 부분</p>\n",
              "</div>\n",
              "\n",
              "  <link rel=\"stylesheet\" href=\"https://cdnjs.cloudflare.com/ajax/libs/codemirror/5.65.2/codemirror.min.css\">\n",
              "  <script src=\"https://cdnjs.cloudflare.com/ajax/libs/codemirror/5.65.2/codemirror.min.js\"></script>\n",
              "  <script src=\"https://cdnjs.cloudflare.com/ajax/libs/codemirror/5.65.2/mode/python/python.min.js\"></script>\n",
              "  <style>\n",
              "    .CodeMirror {\n",
              "    height: 200px;\n",
              "    border: 1px solid #ccc;\n",
              "    border-radius: 5px;\n",
              "    }\n",
              "  </style>\n",
              "\n",
              "  <div style = \"clear : both\"></div>\n",
              "\n",
              "  <HR>\n",
              "  <h2 style=\"background-color:orange;\"> 코드 작성 </h2>\n",
              "\n",
              "  <div>\n",
              "  <textarea id=\"code-editor\"></textarea>\n",
              "  </div>\n",
              "\n",
              "  <button id=\"submitBtn\">Submit</button>\n",
              "\n",
              "  <div id=\"result\"></div>\n",
              "\n",
              "  <script>\n",
              "    var editor = CodeMirror.fromTextArea(document.getElementById('code-editor'), {\n",
              "      lineNumbers: true,\n",
              "      mode: 'python',\n",
              "      theme: 'default',\n",
              "      viewportMargin: Infinity,\n",
              "      inputstyle: 'textarea'\n",
              "    });\n",
              "\n",
              "  document.getElementById('submitBtn').addEventListener('click', function() {\n",
              "    // 결과 div에 평가 결과를 표시\n",
              "    var resultDiv = document.getElementById('result');\n",
              "    const text = editor.getValue();\n",
              "    resultDiv.innerHTML = google.colab.kernel.invokeFunction('notebook.save_text', [text], {});\n",
              "\n",
              "    // 결과 삭제 버튼 생성 및 설정\n",
              "    var clearButton = document.createElement('button');\n",
              "    clearButton.textContent = 'Clear Results';\n",
              "    clearButton.onclick = function() {\n",
              "        resultDiv.innerHTML = ''; // 결과 내용 삭제\n",
              "        clearButton.remove(); // 삭제 버튼도 제거\n",
              "    };\n",
              "\n",
              "    // 결과 div에 삭제 버튼 추가\n",
              "    resultDiv.appendChild(clearButton);\n",
              "  });\n",
              "\n",
              "//    function sendText() {\n",
              "//      const text = editor.getValue();\n",
              "//      google.colab.kernel.invokeFunction('notebook.save_text', [text], {});\n",
              "//    };\n",
              "\n",
              "\n",
              "\n",
              "\n",
              "\n",
              "  </script>\n",
              "  "
            ]
          },
          "metadata": {}
        },
        {
          "output_type": "display_data",
          "data": {
            "text/plain": [
              "<IPython.core.display.HTML object>"
            ],
            "text/html": [
              "<div id = \"result\">"
            ]
          },
          "metadata": {}
        },
        {
          "output_type": "display_data",
          "data": {
            "text/plain": [
              "<IPython.core.display.HTML object>"
            ],
            "text/html": [
              "<h2 style = \"background-color:yellow\">결과 확인</h2>"
            ]
          },
          "metadata": {}
        },
        {
          "output_type": "stream",
          "name": "stdout",
          "text": [
            "1 번째 줄에 정의되지 않은 변수가 있습니다.\n",
            "또는 따옴표 없는 문자열입니까? 아니면 잘못 입력한 명령어입니까?\n",
            "========================================\n",
            "\u001b[38;2;255;0;0mㄷㄹㅇㅁㄴ\u001b[0m\n"
          ]
        }
      ]
    },
    {
      "cell_type": "code",
      "source": [],
      "metadata": {
        "id": "5OyOz4qsbPuP"
      },
      "execution_count": null,
      "outputs": []
    }
  ],
  "metadata": {
    "colab": {
      "provenance": [],
      "collapsed_sections": [
        "eIgiBf7vmV6_"
      ]
    },
    "kernelspec": {
      "display_name": "Python 3",
      "name": "python3"
    },
    "language_info": {
      "name": "python"
    },
    "widgets": {
      "application/vnd.jupyter.widget-state+json": {
        "ae18daae7337492a847edd3a6d050a92": {
          "model_module": "@jupyter-widgets/controls",
          "model_name": "ButtonModel",
          "model_module_version": "1.5.0",
          "state": {
            "_dom_classes": [],
            "_model_module": "@jupyter-widgets/controls",
            "_model_module_version": "1.5.0",
            "_model_name": "ButtonModel",
            "_view_count": null,
            "_view_module": "@jupyter-widgets/controls",
            "_view_module_version": "1.5.0",
            "_view_name": "ButtonView",
            "button_style": "",
            "description": "Test Button",
            "disabled": false,
            "icon": "",
            "layout": "IPY_MODEL_7164c11b841d421584e5b7cba5dbec78",
            "style": "IPY_MODEL_77f741254a3a4289bbfd81b3cfbfb011",
            "tooltip": ""
          }
        },
        "7164c11b841d421584e5b7cba5dbec78": {
          "model_module": "@jupyter-widgets/base",
          "model_name": "LayoutModel",
          "model_module_version": "1.2.0",
          "state": {
            "_model_module": "@jupyter-widgets/base",
            "_model_module_version": "1.2.0",
            "_model_name": "LayoutModel",
            "_view_count": null,
            "_view_module": "@jupyter-widgets/base",
            "_view_module_version": "1.2.0",
            "_view_name": "LayoutView",
            "align_content": null,
            "align_items": null,
            "align_self": null,
            "border": null,
            "bottom": null,
            "display": null,
            "flex": null,
            "flex_flow": null,
            "grid_area": null,
            "grid_auto_columns": null,
            "grid_auto_flow": null,
            "grid_auto_rows": null,
            "grid_column": null,
            "grid_gap": null,
            "grid_row": null,
            "grid_template_areas": null,
            "grid_template_columns": null,
            "grid_template_rows": null,
            "height": null,
            "justify_content": null,
            "justify_items": null,
            "left": null,
            "margin": null,
            "max_height": null,
            "max_width": null,
            "min_height": null,
            "min_width": null,
            "object_fit": null,
            "object_position": null,
            "order": null,
            "overflow": null,
            "overflow_x": null,
            "overflow_y": null,
            "padding": null,
            "right": null,
            "top": null,
            "visibility": null,
            "width": null
          }
        },
        "77f741254a3a4289bbfd81b3cfbfb011": {
          "model_module": "@jupyter-widgets/controls",
          "model_name": "ButtonStyleModel",
          "model_module_version": "1.5.0",
          "state": {
            "_model_module": "@jupyter-widgets/controls",
            "_model_module_version": "1.5.0",
            "_model_name": "ButtonStyleModel",
            "_view_count": null,
            "_view_module": "@jupyter-widgets/base",
            "_view_module_version": "1.2.0",
            "_view_name": "StyleView",
            "button_color": null,
            "font_weight": ""
          }
        },
        "be733669acea4d6a81f1d440c63cdb6f": {
          "model_module": "@jupyter-widgets/controls",
          "model_name": "ButtonModel",
          "model_module_version": "1.5.0",
          "state": {
            "_dom_classes": [],
            "_model_module": "@jupyter-widgets/controls",
            "_model_module_version": "1.5.0",
            "_model_name": "ButtonModel",
            "_view_count": null,
            "_view_module": "@jupyter-widgets/controls",
            "_view_module_version": "1.5.0",
            "_view_name": "ButtonView",
            "button_style": "",
            "description": "Click Me!",
            "disabled": false,
            "icon": "",
            "layout": "IPY_MODEL_321f48eeebc9414fb3e24c3f635d2f09",
            "style": "IPY_MODEL_767639d72eef4def8a1cac7f180ff805",
            "tooltip": ""
          }
        },
        "321f48eeebc9414fb3e24c3f635d2f09": {
          "model_module": "@jupyter-widgets/base",
          "model_name": "LayoutModel",
          "model_module_version": "1.2.0",
          "state": {
            "_model_module": "@jupyter-widgets/base",
            "_model_module_version": "1.2.0",
            "_model_name": "LayoutModel",
            "_view_count": null,
            "_view_module": "@jupyter-widgets/base",
            "_view_module_version": "1.2.0",
            "_view_name": "LayoutView",
            "align_content": null,
            "align_items": null,
            "align_self": null,
            "border": null,
            "bottom": null,
            "display": null,
            "flex": null,
            "flex_flow": null,
            "grid_area": null,
            "grid_auto_columns": null,
            "grid_auto_flow": null,
            "grid_auto_rows": null,
            "grid_column": null,
            "grid_gap": null,
            "grid_row": null,
            "grid_template_areas": null,
            "grid_template_columns": null,
            "grid_template_rows": null,
            "height": null,
            "justify_content": null,
            "justify_items": null,
            "left": null,
            "margin": null,
            "max_height": null,
            "max_width": null,
            "min_height": null,
            "min_width": null,
            "object_fit": null,
            "object_position": null,
            "order": null,
            "overflow": null,
            "overflow_x": null,
            "overflow_y": null,
            "padding": null,
            "right": null,
            "top": null,
            "visibility": null,
            "width": null
          }
        },
        "767639d72eef4def8a1cac7f180ff805": {
          "model_module": "@jupyter-widgets/controls",
          "model_name": "ButtonStyleModel",
          "model_module_version": "1.5.0",
          "state": {
            "_model_module": "@jupyter-widgets/controls",
            "_model_module_version": "1.5.0",
            "_model_name": "ButtonStyleModel",
            "_view_count": null,
            "_view_module": "@jupyter-widgets/base",
            "_view_module_version": "1.2.0",
            "_view_name": "StyleView",
            "button_color": null,
            "font_weight": ""
          }
        },
        "5599d336b441407c838b3d7b74ccc241": {
          "model_module": "@jupyter-widgets/output",
          "model_name": "OutputModel",
          "model_module_version": "1.0.0",
          "state": {
            "_dom_classes": [],
            "_model_module": "@jupyter-widgets/output",
            "_model_module_version": "1.0.0",
            "_model_name": "OutputModel",
            "_view_count": null,
            "_view_module": "@jupyter-widgets/output",
            "_view_module_version": "1.0.0",
            "_view_name": "OutputView",
            "layout": "IPY_MODEL_89ef33a8bc624eff99c836df8021c416",
            "msg_id": "",
            "outputs": []
          }
        },
        "89ef33a8bc624eff99c836df8021c416": {
          "model_module": "@jupyter-widgets/base",
          "model_name": "LayoutModel",
          "model_module_version": "1.2.0",
          "state": {
            "_model_module": "@jupyter-widgets/base",
            "_model_module_version": "1.2.0",
            "_model_name": "LayoutModel",
            "_view_count": null,
            "_view_module": "@jupyter-widgets/base",
            "_view_module_version": "1.2.0",
            "_view_name": "LayoutView",
            "align_content": null,
            "align_items": null,
            "align_self": null,
            "border": null,
            "bottom": null,
            "display": null,
            "flex": null,
            "flex_flow": null,
            "grid_area": null,
            "grid_auto_columns": null,
            "grid_auto_flow": null,
            "grid_auto_rows": null,
            "grid_column": null,
            "grid_gap": null,
            "grid_row": null,
            "grid_template_areas": null,
            "grid_template_columns": null,
            "grid_template_rows": null,
            "height": null,
            "justify_content": null,
            "justify_items": null,
            "left": null,
            "margin": null,
            "max_height": null,
            "max_width": null,
            "min_height": null,
            "min_width": null,
            "object_fit": null,
            "object_position": null,
            "order": null,
            "overflow": null,
            "overflow_x": null,
            "overflow_y": null,
            "padding": null,
            "right": null,
            "top": null,
            "visibility": null,
            "width": null
          }
        }
      }
    }
  },
  "nbformat": 4,
  "nbformat_minor": 0
}