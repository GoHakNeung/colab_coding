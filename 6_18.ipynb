{
 "cells": [
  {
   "cell_type": "code",
   "execution_count": 1,
   "id": "5e4899b2",
   "metadata": {
    "slideshow": {
     "slide_type": "slide"
    }
   },
   "outputs": [
    {
     "data": {
      "text/html": [
       "<style>.container { width:80% !important; }</style>"
      ],
      "text/plain": [
       "<IPython.core.display.HTML object>"
      ]
     },
     "metadata": {},
     "output_type": "display_data"
    }
   ],
   "source": [
    "import ColabTurtle.Turtle as t\n",
    "from python.second import *\n",
    "start()"
   ]
  },
  {
   "cell_type": "markdown",
   "id": "9a929882",
   "metadata": {
    "slideshow": {
     "slide_type": "slide"
    }
   },
   "source": [
    "# 오늘 배울 내용입니다.  \n",
    "> 1. print와 변수  \n",
    "> 2. input과 자료형  \n",
    "> 3. 연산자"
   ]
  },
  {
   "cell_type": "markdown",
   "id": "fce92520",
   "metadata": {
    "slideshow": {
     "slide_type": "slide"
    },
    "solution2": "hidden",
    "solution2_first": true
   },
   "source": [
    "___\n",
    "# 파이썬에서 코드를 작성하는 규칙입니다.  \n",
    "## 숫자는 숫자 그대로 입력합니다. \n",
    "```python\n",
    "3\n",
    "```\n",
    "```\n",
    "3\n",
    "```\n",
    "  \n",
    "## 연산기호를 이용해서 연산하고 결과를 확인할 수 있습니다.  \n",
    "``` python\n",
    "3+4\n",
    "```\n",
    "```\n",
    "7\n",
    "```\n",
    "```python \n",
    "3*6\n",
    "```\n",
    "```\n",
    "18\n",
    "```\n"
   ]
  },
  {
   "cell_type": "code",
   "execution_count": 2,
   "id": "41b0e530",
   "metadata": {
    "scrolled": false,
    "solution2": "hidden"
   },
   "outputs": [
    {
     "data": {
      "text/plain": [
       "3"
      ]
     },
     "execution_count": 2,
     "metadata": {},
     "output_type": "execute_result"
    }
   ],
   "source": [
    "3"
   ]
  },
  {
   "cell_type": "code",
   "execution_count": 1,
   "id": "4ade520b",
   "metadata": {
    "scrolled": true,
    "solution2": "hidden"
   },
   "outputs": [
    {
     "data": {
      "text/plain": [
       "13"
      ]
     },
     "execution_count": 1,
     "metadata": {},
     "output_type": "execute_result"
    }
   ],
   "source": [
    "4+9"
   ]
  },
  {
   "cell_type": "code",
   "execution_count": 4,
   "id": "ef04f461",
   "metadata": {
    "slideshow": {
     "slide_type": "slide"
    }
   },
   "outputs": [],
   "source": [
    "# 숫자를 입력하고 ▶Run(실행)을 클릭해봅시다.\n"
   ]
  },
  {
   "cell_type": "code",
   "execution_count": 5,
   "id": "63ba3a1a",
   "metadata": {
    "slideshow": {
     "slide_type": "slide"
    }
   },
   "outputs": [],
   "source": [
    "# 숫자와 연산기호를 입력하고 ▶Run(실행)을 클릭해봅시다.\n"
   ]
  },
  {
   "cell_type": "markdown",
   "id": "c421ea7d",
   "metadata": {
    "slideshow": {
     "slide_type": "slide"
    },
    "solution2": "hidden",
    "solution2_first": true
   },
   "source": [
    "## 글자를 입력할 때는 작은 따옴표 또는 큰 따옴표('', \"\")를 붙여야 합니다.  \n",
    "```python\n",
    "'Hello'\n",
    "```\n",
    "```\n",
    "'Hello'\n",
    "```\n",
    "\n",
    "## 글자 없이 입력하면 변수로 인식하고 변수를 출력합니다.  \n",
    "(변수가 정의되어 있으면 변수 값을, 변수가 정의되어 있지 않으면 오류가 발생합니다.)\n",
    "``` python\n",
    "hello = 5\n",
    "hello \n",
    "```\n",
    "```\n",
    "5\n",
    "```"
   ]
  },
  {
   "cell_type": "code",
   "execution_count": null,
   "id": "70d1c236",
   "metadata": {
    "solution2": "hidden"
   },
   "outputs": [],
   "source": [
    "'Hello World'\n",
    "\"Hello World\""
   ]
  },
  {
   "cell_type": "code",
   "execution_count": null,
   "id": "838a72c4",
   "metadata": {
    "scrolled": false,
    "solution2": "hidden"
   },
   "outputs": [],
   "source": [
    "Hello World"
   ]
  },
  {
   "cell_type": "code",
   "execution_count": 7,
   "id": "4ac5a9a6",
   "metadata": {
    "slideshow": {
     "slide_type": "subslide"
    }
   },
   "outputs": [],
   "source": [
    "# 작은 따옴표 또는 큰 따옴표를 붙여서 Hello World를 입력하고 ▶Run(실행)을 클릭해봅시다.\n"
   ]
  },
  {
   "cell_type": "code",
   "execution_count": 8,
   "id": "9c95dc9d",
   "metadata": {
    "slideshow": {
     "slide_type": "subslide"
    }
   },
   "outputs": [],
   "source": [
    "# 작은 따옴표 또는 큰 따옴표를 붙이지 않고 Hello World를 입력하고 ▶Run(실행)을 클릭해봅시다.\n"
   ]
  },
  {
   "cell_type": "markdown",
   "id": "9e55fac3",
   "metadata": {
    "slideshow": {
     "slide_type": "subslide"
    }
   },
   "source": [
    "## 명령어(print(), input(), if ~ , for)를 입력합니다.  \n",
    "```python\n",
    "print('hello')\n",
    "input('나이가 몇살입니까?')\n",
    "```"
   ]
  },
  {
   "cell_type": "markdown",
   "id": "496b6af6",
   "metadata": {
    "slideshow": {
     "slide_type": "slide"
    }
   },
   "source": [
    "---\n",
    "# print와 변수\n",
    "엔트리에서는 말하기를 이용해서 출력할 수 있습니다.  "
   ]
  },
  {
   "cell_type": "code",
   "execution_count": 2,
   "id": "cebdb65f",
   "metadata": {},
   "outputs": [
    {
     "data": {
      "text/html": [
       "\n",
       "        <iframe\n",
       "            width=\"100%\"\n",
       "            height=\"650\"\n",
       "            src=\"https://playentry.org/ws/625f9f1425afa902a125e2c1\"\n",
       "            frameborder=\"0\"\n",
       "            allowfullscreen\n",
       "            \n",
       "        ></iframe>\n",
       "        "
      ],
      "text/plain": [
       "<IPython.lib.display.IFrame at 0xffffac254850>"
      ]
     },
     "execution_count": 2,
     "metadata": {},
     "output_type": "execute_result"
    }
   ],
   "source": [
    "# 엔트리에서 '안녕 파이썬', '만나서 반가워', '친하게 지내자'를 순서대로 말해봅시다.  \n",
    "question_1()"
   ]
  },
  {
   "cell_type": "code",
   "execution_count": 5,
   "id": "152f11bd",
   "metadata": {
    "scrolled": false
   },
   "outputs": [
    {
     "data": {
      "text/html": [
       "\n",
       "        <iframe\n",
       "            width=\"100%\"\n",
       "            height=\"650\"\n",
       "            src=\"https://playentry.org/ws/62285c5c096ca500fe6104aa#\"\n",
       "            frameborder=\"0\"\n",
       "            allowfullscreen\n",
       "            \n",
       "        ></iframe>\n",
       "        "
      ],
      "text/plain": [
       "<IPython.lib.display.IFrame at 0xffffac254fa0>"
      ]
     },
     "execution_count": 5,
     "metadata": {},
     "output_type": "execute_result"
    }
   ],
   "source": [
    "# 엔트리에서 말하기 블록을 이용해 변수를 출력할 수 있습니다. \n",
    "# 1.변수이름을 bag으로 만들고 2. bag에 '수학책'을 저장하고 3. 말하기 블록으로 bag을 출력해봅시다. \n",
    "question_2()"
   ]
  },
  {
   "cell_type": "markdown",
   "id": "9add5df6",
   "metadata": {},
   "source": [
    "## **print()** 는 출력하는 명령어입니다.  \n",
    "괄호(**( )**)안에 출력하고 싶은 내용을 넣으면 됩니다. \n",
    "```python\n",
    "print(123123)\n",
    "print('hello world')\n",
    "bag = '국어책'\n",
    "print(bag)\n",
    "```\n",
    "```\n",
    "123123  \n",
    "hello world  \n",
    "국어책  \n",
    "```\n",
    "이 출력됩니다."
   ]
  },
  {
   "cell_type": "markdown",
   "id": "0ffecbee",
   "metadata": {},
   "source": [
    "## print() 명령어와 관련해서   \n",
    "- 출력하는 명령어는 무엇인가요? <span style=\"background-color:black\"> print() </span>  \n",
    "- 출력하고 싶은 내용은 어디에 적어야 하나요?  <span style=\"background-color:black\"> (        ) </span>  \n",
    "- 문자열을 출력하려면 어떻게 해야 하나요?  <span style=\"background-color:black\"> 큰 따옴표 또는 작은 따옴표 않에 적는다. </span>  \n"
   ]
  },
  {
   "cell_type": "code",
   "execution_count": 10,
   "id": "4fa2a69c",
   "metadata": {
    "solution2": "hidden",
    "solution2_first": true
   },
   "outputs": [],
   "source": [
    "# Hello World를 print()를 활용해서 출력해봅시다.  \n"
   ]
  },
  {
   "cell_type": "code",
   "execution_count": null,
   "id": "cd7377d3",
   "metadata": {
    "solution2": "hidden"
   },
   "outputs": [],
   "source": [
    "print('Hello World')\n",
    "print(\"Hello World\")"
   ]
  },
  {
   "cell_type": "code",
   "execution_count": null,
   "id": "674780c9",
   "metadata": {
    "solution2": "hidden",
    "solution2_first": true
   },
   "outputs": [],
   "source": [
    "# 2022를 print()를 활용해서 출력해봅시다. \n"
   ]
  },
  {
   "cell_type": "code",
   "execution_count": null,
   "id": "e553b59d",
   "metadata": {
    "solution2": "hidden"
   },
   "outputs": [],
   "source": [
    "print(2022)"
   ]
  },
  {
   "cell_type": "markdown",
   "id": "fffd26e3",
   "metadata": {},
   "source": [
    "## 변수는 숫자, 문자열, 참/거짓 등을 저장합니다.   \n",
    "파이썬에서 변수는 **변수 이름(영어 또는 숫자) = 값** 형태로 작성합니다.  \n",
    "(단, 변수이름은 영어로 시작하며 print와 같은 이름은 안됍니다.)  \n",
    "(변수 이름은 변수가 어떤 값을 가지는지 잘 적어야 합니다.)  \n",
    "``` python\n",
    "grade = 6\n",
    "name = 'mango'\n",
    "TF = True\n",
    "FT = False\n",
    "```\n",
    "변수에 저장된 값을 확인하기 위해서는 print(변수)를 이용합니다.  \n",
    "``` python\n",
    "print(grade)\n",
    "print(name)\n",
    "print(TF)\n",
    "print(FT)\n",
    "```\n",
    "```\n",
    "6   \n",
    "mango  \n",
    "True  \n",
    "False\n",
    "```"
   ]
  },
  {
   "cell_type": "markdown",
   "id": "1ad21c25",
   "metadata": {},
   "source": [
    "## 변수와 관련해서 관련해서   \n",
    "- 변수에 저장할 수 있는 값은 무엇이 있을까요? <span style=\"background-color:black\"> 숫자, 문자, 참/거짓 </span>  \n",
    "- 변수 이름은 무엇과 무엇으로 만들 수 있나요?  <span style=\"background-color:black\"> 영어, 숫자 </span>  \n",
    "- 변수 이름을 만들 때 주의할 점은 무엇인가요? <span style=\"background-color:black\"> 영어로 시작한다. print() 기존의 명령어를 사용하면 안된다.  </span>  \n"
   ]
  },
  {
   "cell_type": "code",
   "execution_count": null,
   "id": "ceb9d723",
   "metadata": {
    "solution2": "hidden",
    "solution2_first": true
   },
   "outputs": [],
   "source": [
    "# day 라는 변수에 오늘 날짜를 저장하고 print()로 출력해봅시다. \n",
    "\n"
   ]
  },
  {
   "cell_type": "code",
   "execution_count": null,
   "id": "e6eeffa7",
   "metadata": {
    "solution2": "hidden"
   },
   "outputs": [],
   "source": [
    "day = 6\n",
    "print(day)"
   ]
  },
  {
   "cell_type": "code",
   "execution_count": null,
   "id": "5feee43f",
   "metadata": {
    "solution2": "hidden",
    "solution2_first": true
   },
   "outputs": [],
   "source": [
    "# name 라는 변수에 이름을 저장하고 print()로 출력해봅시다. \n",
    "\n"
   ]
  },
  {
   "cell_type": "code",
   "execution_count": null,
   "id": "02802108",
   "metadata": {
    "solution2": "hidden"
   },
   "outputs": [],
   "source": [
    "name = '고학능'"
   ]
  },
  {
   "cell_type": "markdown",
   "id": "d834bfa1",
   "metadata": {},
   "source": [
    "`print()`의 이것 저것  \n",
    "1. 여러 변수 출력하기\n",
    "```python\n",
    "a = 'Hello'\n",
    "b = 'python'\n",
    "print(a, b)\n",
    "Hello python\n",
    "```\n",
    "2. 따옴표 출력하기  \n",
    "print()안에서 문자열은 작은 따옴표부터 작은 따옴표까지, 큰 따옴표에서 큰 따옴표까지 인식합니다.  \n",
    "그래서 문자열 안에 작은 따옴표 또는 큰 따옴표가 있으면 주의해야 합니다.  \n",
    "문장안에 **작은 따옴표**가 있으면 **큰 따옴표로 감쌉니다.**  \n",
    "반대로 문장안에 **큰 따옴표**가 있으면 **작은 따옴표로 감쌉니다.** \n",
    "``` python\n",
    "print('안녕 반가워, 내 이름은 \"파이썬\"이야')\n",
    "print(\"반가워, 내 이름은 '주피터'이야\")\n",
    "안녕 반가워, 내 이름은 \"파이썬\"이야\n",
    "반가워, 내 이름은 '주피터'이야\n",
    "```\n",
    "또는 큰/작은 따옴표 앞에 **\\***를 붙입니다.\n",
    "``` python\n",
    "print('안녕 반가워, 내 이름은 \\'파이썬\\'이야')\n",
    "안녕 반가워, 내 이름은 '파이썬'이야\n",
    "```\n",
    "3. print()안에서 줄 바꿈을 할 때\n",
    "줄 바꿈을 할 위치에 '\\n'을 넣습니다. \n",
    "```python\n",
    "print('안녕 반가워,\\n내 이름은 파이썬이야')\n",
    "안녕 반가워,\n",
    "내 이름은 파이썬이야\n",
    "```"
   ]
  },
  {
   "cell_type": "code",
   "execution_count": 15,
   "id": "869c5fad",
   "metadata": {},
   "outputs": [],
   "source": [
    "# print()의 이것 저것을 연습해보세요\n",
    "\n",
    "\n",
    "\n"
   ]
  },
  {
   "cell_type": "markdown",
   "id": "0ca5c1a8",
   "metadata": {},
   "source": [
    "---\n",
    "# input() 입력과 자료형"
   ]
  },
  {
   "cell_type": "markdown",
   "id": "2095b0cb",
   "metadata": {},
   "source": [
    "엔트리에서 묻고 답하기를 이용해서 데이터를 입력할 수 있습니다.  "
   ]
  },
  {
   "cell_type": "code",
   "execution_count": 6,
   "id": "029e0438",
   "metadata": {},
   "outputs": [
    {
     "data": {
      "text/html": [
       "\n",
       "        <iframe\n",
       "            width=\"100%\"\n",
       "            height=\"650\"\n",
       "            src=\"https://playentry.org/ws/6260e8a115cd40009e972fc8\"\n",
       "            frameborder=\"0\"\n",
       "            allowfullscreen\n",
       "            \n",
       "        ></iframe>\n",
       "        "
      ],
      "text/plain": [
       "<IPython.lib.display.IFrame at 0xffffac254550>"
      ]
     },
     "execution_count": 6,
     "metadata": {},
     "output_type": "execute_result"
    }
   ],
   "source": [
    "# 엔트리에서 묻고 답하기를 이용해서 \n",
    "# '당신의 이름은 무엇입니까?'를 물어보고 name 변수에 저장합니다. \n",
    "# '당신의 나이가 몇 살입니까?'를 물어보고 age 변수에 저장합니다. \n",
    "# name 변수, age 변수를 순서대로 출력합니다. \n",
    "question_3()"
   ]
  },
  {
   "cell_type": "markdown",
   "id": "257a7d01",
   "metadata": {},
   "source": [
    "## input( )은 데이터를 입력할 수 있는 명령어입니다.  \n",
    "()안에는 질문을 적으면 됩니다.\n",
    "``` python\n",
    "input('당신이 다니고 있는 학교의 이름은 무엇입니까?')\n",
    "```\n",
    "```\n",
    "당신이 다니고 있는 학교의 이름은 무엇입니까? ________________________\n",
    "```\n",
    "input() 한 값은 다음 코드에서 사랍니다. 그러므로 변수에 저장을 합니다. \n",
    "``` python\n",
    "school = input('당신이 다니고 있는 학교의 이름은 무엇입니까?')\n",
    "print(school)\n",
    "```\n",
    "```\n",
    "당신이 다니고 있는 학교의 이름은 무엇입니까? 가득초등학교\n",
    "가득초등학교\n",
    "```\n"
   ]
  },
  {
   "cell_type": "markdown",
   "id": "9578ef55",
   "metadata": {},
   "source": [
    "## input()과 관련해서   \n",
    "- 데이터를 입력하기 위한 명령어는 무엇입니까? <span style=\"background-color:black\"> input() </span>  \n",
    "- input()의 괄호()안에는 어떤 내용을 넣습니까?  <span style=\"background-color:black\"> 질문 </span>  \n",
    "- input() 대답을 어디에 저장할 수 있나요? <span style=\"background-color:black\"> 변수  </span>  \n"
   ]
  },
  {
   "cell_type": "code",
   "execution_count": null,
   "id": "d6978e5d",
   "metadata": {
    "solution2": "hidden",
    "solution2_first": true
   },
   "outputs": [],
   "source": [
    "# 당신의 이름은 무엇입니까?'를 물어보고 name 변수에 저장합니다.\n",
    "# name 변수를 출력합니다.\n",
    "\n"
   ]
  },
  {
   "cell_type": "code",
   "execution_count": null,
   "id": "0cda02b9",
   "metadata": {
    "solution2": "hidden"
   },
   "outputs": [],
   "source": [
    "name = input('당신의 이름은 무엇입니까?')\n",
    "print(name)"
   ]
  },
  {
   "cell_type": "code",
   "execution_count": null,
   "id": "e1d928fa",
   "metadata": {
    "solution2": "hidden",
    "solution2_first": true
   },
   "outputs": [],
   "source": [
    "# '당신의 나이가 몇 살입니까?'물어보고 age 변수에 저장합니다.\n",
    "# age 변수를 출력합니다.\n"
   ]
  },
  {
   "cell_type": "code",
   "execution_count": null,
   "id": "755b3171",
   "metadata": {
    "solution2": "hidden"
   },
   "outputs": [],
   "source": [
    "age = input('당신의 나이가 몇 살입니까?')\n",
    "print(age)"
   ]
  },
  {
   "cell_type": "code",
   "execution_count": null,
   "id": "3e4b4537",
   "metadata": {
    "solution2": "hidden",
    "solution2_first": true
   },
   "outputs": [],
   "source": [
    "# '당신의 이름은 무엇입니까?'를 물어보고 name 변수에 저장합니다. \n",
    "# '당신의 나이가 몇 살입니까?'를 물어보고 age 변수에 저장합니다. \n",
    "# name 변수, age 변수를 순서대로 출력합니다. \n",
    "\n",
    "\n",
    "\n"
   ]
  },
  {
   "cell_type": "code",
   "execution_count": null,
   "id": "25e7eec0",
   "metadata": {
    "solution2": "hidden"
   },
   "outputs": [],
   "source": [
    "name = input('당신의 이름은 무엇입니까?')\n",
    "age = input('당신의 나이가 몇 살입니까?')\n",
    "print(name)\n",
    "print(age)"
   ]
  },
  {
   "cell_type": "markdown",
   "id": "a046eec9",
   "metadata": {},
   "source": [
    "## 다양한 자료 형태가 있습니다.   \n",
    "숫자, 문자, 참/거짓, 리스트, 세트, 튜플, 딕셔너리 등이 있습니다.  \n",
    "오늘은 **숫자, 문자, 참/거짓**을 알아보겠습니다.  \n",
    "- **숫자**는 사칙연산을 할 수 있는 자료입니다.  \n",
    "숫자는 더 나누면 자연수, 정수, 유리수, 무리수, 실수, 허수 등이 있는데... **사칙연산**이 되는 걸로 알고 있으면 되겠습니다.  \n",
    "\n",
    "```python\n",
    "3+4\n",
    "5.5*6\n",
    "-1.9/2\n",
    "95-100\n",
    "```\n",
    "- **문자열**은 단어, 문장, 글자 등 문자들의 집합니다.  \n",
    "문자열을 저장하거나 사용할 때는 **작은 따옴표 또는 큰 따옴표**를 붙여줍니다.  \n",
    "\n",
    "```python\n",
    "'Hello World'\n",
    "print('hello world')\n",
    "```\n",
    "```\n",
    "'Hello World`\n",
    "hello world\n",
    "```  \n",
    "- -  문자열과 문자열을 더하면 문자열 뒤에 문자열에 이어집니다.  \n",
    "``` python\n",
    "'hello' + 'world'\n",
    "```\n",
    "```python\n",
    "'helloworld'\n",
    "```\n",
    "- - 문자열을 곱하면, 문자열의 곱하는 숫자만큼 반복되서 이어집니다.  \n",
    "``` python \n",
    "'='*10\n",
    "'output'\n",
    "'='*10\n",
    "``` \n",
    "```python\n",
    "==========\n",
    "output\n",
    "==========\n",
    "```\n",
    "- 참/거짓은 True, False를 나타내며 만약 ~ 라면 등에서 사용됩니다.  \n",
    "  **True** 또는 **False** 처럼 대문자, 소문자를 구분해야 합니다. \n",
    "\n",
    "``` python\n",
    "True\n",
    "5 == 3\n",
    "4 < 6\n",
    "```\n",
    "``` python\n",
    "True\n",
    "False\n",
    "True\n",
    "```\n",
    "자료형과 관련해서 설명할 내용은 더더 많습니다. "
   ]
  },
  {
   "cell_type": "markdown",
   "id": "0bd2bd76",
   "metadata": {},
   "source": [
    "## 자료형과 관련해서  \n",
    "- 숫자형 자료의 특징은 무엇입니까? <span style=\"background-color:black\"> 연산이 된다. </span>  \n",
    "- 'apple' + 'banana'을 하면 어떻게 됩니까?  <span style=\"background-color:black\"> applebanana </span>  \n",
    "- 5 > 6을 실행하면 어떤 결과가 나올까요? <span style=\"background-color:black\"> False  </span>  "
   ]
  },
  {
   "cell_type": "markdown",
   "id": "26b548fb",
   "metadata": {},
   "source": [
    "## age = input() 하면 어떤 결과가 나올까?  \n",
    "```python\n",
    "age1 = input('나이1')\n",
    "age2 = input('나이2')\n",
    "print(age1+age2)\n",
    "```\n",
    "첫 번째, 두 번째 질문에 숫자로 답하면, `print(age1+age2)`는 어떤 결과가 나올까요 ?"
   ]
  },
  {
   "cell_type": "code",
   "execution_count": null,
   "id": "42008bb6",
   "metadata": {
    "solution2": "hidden",
    "solution2_first": true
   },
   "outputs": [],
   "source": [
    "age1 = input('나이1 : ')\n",
    "age2 = input('나이2 : ')\n",
    "print(age1+age2)"
   ]
  },
  {
   "cell_type": "markdown",
   "id": "57e3830e",
   "metadata": {
    "solution2": "hidden"
   },
   "source": [
    "age1, age2 숫자처럼 보이지만 문자입니다. 그래서 age1+age2를 더하면 숫자가 더해지는게 아니라 숫자 옆에 숫자가 입력됩니다."
   ]
  },
  {
   "cell_type": "markdown",
   "id": "c3a6db85",
   "metadata": {},
   "source": [
    "- 자료형을 확인하는 방법은 type(숫자/문자/참_거짓, 리스트...)처럼 type() 괄호()안에 자료형을 입력하면 됩니다.  \n",
    "- 숫자는 **int** : 소수점이 없는 수, **float** : 소수점이 있는 수  \n",
    "- 문자열은 **str**\n",
    "- 참/거짓은 **bool** 입니다.  \n",
    "- 자료형을 강제로 바꿀 수도 있습니다.  \n",
    "숫자는 int(), float, 문자형은 str(), 참/거짓은 bool() 입니다. \n",
    "```python\n",
    "print(type(123))\n",
    "print(type('hello'))\n",
    "print(bool(True))\n",
    "print(str(123) + str(123))\n",
    "```\n",
    "``` python\n",
    "int  \n",
    "str  \n",
    "bool\n",
    "123123\n",
    "```\n"
   ]
  },
  {
   "cell_type": "code",
   "execution_count": 22,
   "id": "88fbd2cd",
   "metadata": {
    "solution2": "hidden",
    "solution2_first": true
   },
   "outputs": [
    {
     "data": {
      "text/plain": [
       "''"
      ]
     },
     "execution_count": 22,
     "metadata": {},
     "output_type": "execute_result"
    }
   ],
   "source": [
    "# age = input()에서 대답을 숫자로 할 때, age를 숫자 데이터로 바꿔봅시다.\n",
    "\n"
   ]
  },
  {
   "cell_type": "code",
   "execution_count": null,
   "id": "9f1121ec",
   "metadata": {
    "scrolled": true,
    "solution2": "hidden"
   },
   "outputs": [],
   "source": [
    "age = input('나이를 적으세요')\n",
    "age = int(age)\n",
    "print(type(age))\n",
    "#또는\n",
    "age = int(input('나이를 적으세요.'))\n",
    "print(type(age))"
   ]
  },
  {
   "cell_type": "markdown",
   "id": "12b5c73e",
   "metadata": {},
   "source": [
    "# 파이썬에서 계산하기  \n",
    "## 사칙연산\n",
    "1. 더하기 +\n",
    "2. 빼기 - \n",
    "3. 곱하기 *\n",
    "4. 나누기 /  \n",
    "\n",
    "숫자를 직접 이용해서 계산하거나 변수를 활용해서 계산을 할 수 있습니다. \n",
    "``` python\n",
    "print(3 + 4)\n",
    "7\n",
    "\n",
    "a = 4\n",
    "b = 7\n",
    "c = a+b\n",
    "print(c)\n",
    "11\n",
    "```"
   ]
  },
  {
   "cell_type": "code",
   "execution_count": null,
   "id": "55f60879",
   "metadata": {},
   "outputs": [],
   "source": [
    "# 변수를 사용하지 않고 +, -, *, / 연산을 해 봅시다. \n",
    "\n",
    "\n",
    "\n"
   ]
  },
  {
   "cell_type": "markdown",
   "id": "c206b0b3",
   "metadata": {},
   "source": [
    "**나누기는 계산**이 더 가능합니다.  \n",
    "- 몫 구하기(**//**)  \n",
    "- 나머지 구하기(%)  \n",
    "``` python\n",
    "5 // 2\n",
    "2\n",
    "5 & 2\n",
    "1\n",
    "```"
   ]
  },
  {
   "cell_type": "code",
   "execution_count": null,
   "id": "87c25959",
   "metadata": {
    "scrolled": false,
    "solution2": "hidden",
    "solution2_first": true
   },
   "outputs": [],
   "source": [
    "# 7 나누기 5의 나머지와 몫을 구해봅시다. \n",
    "\n"
   ]
  },
  {
   "cell_type": "code",
   "execution_count": 37,
   "id": "6dade9d9",
   "metadata": {
    "solution2": "hidden"
   },
   "outputs": [
    {
     "data": {
      "text/plain": [
       "1"
      ]
     },
     "execution_count": 37,
     "metadata": {},
     "output_type": "execute_result"
    }
   ],
   "source": [
    "# 나머지\n",
    "7 & 5\n",
    "# 몫\n",
    "7 // 5"
   ]
  },
  {
   "cell_type": "markdown",
   "id": "6016086c",
   "metadata": {},
   "source": [
    "## 복합 대입 연산\n",
    "자기 자신에 더하거나 빼는 계산하는 방법이 있습니다.  \n"
   ]
  },
  {
   "cell_type": "code",
   "execution_count": 7,
   "id": "954d396d",
   "metadata": {},
   "outputs": [
    {
     "data": {
      "text/html": [
       "\n",
       "        <iframe\n",
       "            width=\"100%\"\n",
       "            height=\"650\"\n",
       "            src=\"https://playentry.org/ws/62ac8fc5d5597a04b9954069\"\n",
       "            frameborder=\"0\"\n",
       "            allowfullscreen\n",
       "            \n",
       "        ></iframe>\n",
       "        "
      ],
      "text/plain": [
       "<IPython.lib.display.IFrame at 0xffffac2546d0>"
      ]
     },
     "execution_count": 7,
     "metadata": {},
     "output_type": "execute_result"
    }
   ],
   "source": [
    "# 엔트리 변수를 만든 다음 '~ 만큼 더하기' 블록이 있습니다. \n",
    "# 10번 반복 후에 변수 값 10을 출력해봅시다. \n",
    "question_4()"
   ]
  },
  {
   "cell_type": "markdown",
   "id": "14d17cc1",
   "metadata": {},
   "source": [
    "엔트리에서 `변수에 10만큼 더하기`는 `변수 = 변수+10`를 뜻합니다. \n",
    "``` python\n",
    "num = 0\n",
    "num = num + 10\n",
    "print(num)\n",
    "10\n",
    "```\n",
    "변수를 두 번 쓰는 것 대신 한 번에 쓰는 방법이 **복합 대입 연산자**입니다.\n",
    "\n",
    "1. 자기 자신과 더하고 값 입력하기  +=  \n",
    "`num += 10`처럼 사용하며, `num = num + 10`을 뜻합니다. \n",
    "``` python\n",
    "a = 5\n",
    "a += 1  \n",
    "print(a)\n",
    "6\n",
    "```\n",
    "2. 자기 자신과 빼고 값 입력하기 -=  \n",
    "`num -= 10`처럼 사용하며, `num = num - 10`을 뜻합니다. \n",
    "```python \n",
    "a = 5\n",
    "a -= 1\n",
    "print(a) \n",
    "4\n",
    "```\n",
    "3. 같은 방법으로 곱하기(\\*=), 나누기(/=)도 됩니다. "
   ]
  },
  {
   "cell_type": "code",
   "execution_count": 3,
   "id": "31b0a3b5",
   "metadata": {},
   "outputs": [],
   "source": [
    "# 복합대입연산자 +=를 사용해서 출력해봅시다. \n",
    "\n"
   ]
  },
  {
   "cell_type": "code",
   "execution_count": 4,
   "id": "911a6f47",
   "metadata": {},
   "outputs": [],
   "source": [
    "# 복합대입연산자 -=를 사용해서 출력해봅시다. \n",
    "\n"
   ]
  },
  {
   "cell_type": "markdown",
   "id": "faebc664",
   "metadata": {},
   "source": [
    "## 연산과 관련해서  \n",
    "- 사칙연산(더하기, 빼기, 곱하기, 나누기) 기호는 무엇입니까? <span style=\"background-color:black\"> +, -, *, / </span>  \n",
    "- 나누기 몫과 나머지를 구하는 기호는 무엇입니까?  <span style=\"background-color:black\"> //, % </span>  \n",
    "- num += 10은 무엇을 뜻할까요? <span style=\"background-color:black\"> num에 10을 더한다.  </span>  "
   ]
  },
  {
   "cell_type": "code",
   "execution_count": null,
   "id": "d634cfe0",
   "metadata": {
    "scrolled": true
   },
   "outputs": [],
   "source": []
  },
  {
   "cell_type": "markdown",
   "id": "71b9e9c0",
   "metadata": {},
   "source": [
    "# 오늘 배운 내용을 문제로 풀어봅시다. "
   ]
  },
  {
   "cell_type": "markdown",
   "id": "1dec6b6e",
   "metadata": {},
   "source": [
    "## 문제\n",
    "사용자의 이름을 입력받아서 다음과 같이 출력해봅시다. \n",
    "```python\n",
    "안녕 [이름]\n",
    "```"
   ]
  },
  {
   "cell_type": "code",
   "execution_count": null,
   "id": "238eb224",
   "metadata": {
    "scrolled": false
   },
   "outputs": [],
   "source": [
    "# 엔트리에서 연습할 공간이 필요하면 실행합니다. \n",
    "entry_exercise()"
   ]
  },
  {
   "cell_type": "code",
   "execution_count": null,
   "id": "54a87009",
   "metadata": {},
   "outputs": [],
   "source": []
  },
  {
   "cell_type": "markdown",
   "id": "3309a60c",
   "metadata": {},
   "source": [
    "## 문제\n",
    "사용자의 이름을 입력받은 다음, 사용자의 성을 입력받아서 다음과 같이 출력해봅시다.  \n",
    "```python\n",
    "안녕하세요 [성] [이름]\n",
    "```"
   ]
  },
  {
   "cell_type": "code",
   "execution_count": null,
   "id": "a2682631",
   "metadata": {},
   "outputs": [],
   "source": [
    "# 엔트리에서 연습할 공간이 필요하면 실행합니다. \n",
    "entry_exercise()"
   ]
  },
  {
   "cell_type": "code",
   "execution_count": null,
   "id": "adf869a5",
   "metadata": {},
   "outputs": [],
   "source": []
  },
  {
   "cell_type": "markdown",
   "id": "adfc1a0a",
   "metadata": {},
   "source": [
    "## 문제\n",
    "2개의 숫자를 입력 받아서 더한 결과를 다음과 같이 출력해봅시다.  \n",
    "```python\n",
    "결과는 다음과 같습니다. : [두 숫자 합]\n",
    "```"
   ]
  },
  {
   "cell_type": "code",
   "execution_count": null,
   "id": "cb8cbf89",
   "metadata": {},
   "outputs": [],
   "source": [
    "# 엔트리에서 연습할 공간이 필요하면 실행합니다. \n",
    "entry_exercise()"
   ]
  },
  {
   "cell_type": "code",
   "execution_count": null,
   "id": "2aa3b00a",
   "metadata": {},
   "outputs": [],
   "source": []
  },
  {
   "cell_type": "markdown",
   "id": "354f2961",
   "metadata": {},
   "source": [
    "## 문제\n",
    "3개의 숫자를 입력받습니다. 두 번째 숫자와 세 번째 숫자를 더한 결과를 첫 번째 숫자를 곱한 결과를 다음과 같이 출력해봅시다.  \n",
    "```python\n",
    "결과는 다음과 같습니다. : [계산결과]\n",
    "```"
   ]
  },
  {
   "cell_type": "code",
   "execution_count": null,
   "id": "9c511922",
   "metadata": {},
   "outputs": [],
   "source": [
    "# 엔트리에서 연습할 공간이 필요하면 실행합니다. \n",
    "entry_exercise()"
   ]
  },
  {
   "cell_type": "code",
   "execution_count": null,
   "id": "bc4c8f9f",
   "metadata": {},
   "outputs": [],
   "source": []
  },
  {
   "cell_type": "markdown",
   "id": "836bf63e",
   "metadata": {},
   "source": [
    "## 문제\n",
    "처음에 가지고 있던 피자 조각 수를 입력 받고, 몇 조각을 먹었는지 입력받아서 남은 조각 수를 계산해서 다음과 같이 출력해봅시다. \n",
    "```python\n",
    "먹기 전 피자 수 : [먹기전 피자]\n",
    "남은 피자 수 : [계산 결과]\n",
    "```"
   ]
  },
  {
   "cell_type": "code",
   "execution_count": null,
   "id": "4d2a219a",
   "metadata": {},
   "outputs": [],
   "source": [
    "# 엔트리에서 연습할 공간이 필요하면 실행합니다. \n",
    "entry_exercise()"
   ]
  },
  {
   "cell_type": "code",
   "execution_count": null,
   "id": "cc0197a7",
   "metadata": {},
   "outputs": [],
   "source": []
  },
  {
   "cell_type": "markdown",
   "id": "0e1f3c08",
   "metadata": {},
   "source": [
    "## 문제\n",
    "사용자로부터 이름과 나이를 입력 받아서 나이에 1을 뺀 후 다음과 같이 출력해봅시다. \n",
    "```python\n",
    "[이름]은 새로운 나이 계산으로 하면 1살이 어려져서 [새로운 나이] 입니다.\n",
    "```"
   ]
  },
  {
   "cell_type": "code",
   "execution_count": null,
   "id": "ec8808a3",
   "metadata": {},
   "outputs": [],
   "source": [
    "# 엔트리에서 연습할 공간이 필요하면 실행합니다. \n",
    "entry_exercise()"
   ]
  },
  {
   "cell_type": "code",
   "execution_count": null,
   "id": "228f6e9c",
   "metadata": {},
   "outputs": [],
   "source": []
  },
  {
   "cell_type": "markdown",
   "id": "4d12111e",
   "metadata": {},
   "source": [
    "## 문제\n",
    "친구들과 떡볶이를 먹었습니다. 떡볶이 가격과 친구 수를 입력받아서 한 명이 내야할 금액을 구하시오"
   ]
  },
  {
   "cell_type": "code",
   "execution_count": null,
   "id": "c694edf3",
   "metadata": {},
   "outputs": [],
   "source": [
    "# 엔트리에서 연습할 공간이 필요하면 실행합니다. \n",
    "entry_exercise()"
   ]
  },
  {
   "cell_type": "code",
   "execution_count": null,
   "id": "7f747e80",
   "metadata": {},
   "outputs": [],
   "source": []
  },
  {
   "cell_type": "markdown",
   "id": "c4998f5c",
   "metadata": {},
   "source": [
    "## 문제\n",
    "1시간은 60분 입니다. 1분은 60초입니다. 영재교육 시간은 2시간 50분입니다. 영재교육시간은 총 몇초간 하는지 구해봅시다. "
   ]
  },
  {
   "cell_type": "code",
   "execution_count": null,
   "id": "2beafbab",
   "metadata": {},
   "outputs": [],
   "source": [
    "# 엔트리에서 연습할 공간이 필요하면 실행합니다. \n",
    "entry_exercise()"
   ]
  },
  {
   "cell_type": "code",
   "execution_count": null,
   "id": "a802fa2b",
   "metadata": {},
   "outputs": [],
   "source": []
  },
  {
   "cell_type": "markdown",
   "id": "52fc5408",
   "metadata": {},
   "source": [
    "## 문제  \n",
    "첫 번째수는 50이 넘은 숫자를 입력받습니다. 두 번째수는 8 미만의 수를 입력받습니다. 두 번째 수는 첫 번째 수에 몇 번 들어가는지 구해봅시다. "
   ]
  },
  {
   "cell_type": "code",
   "execution_count": null,
   "id": "12cac168",
   "metadata": {},
   "outputs": [],
   "source": [
    "# 엔트리에서 연습할 공간이 필요하면 실행합니다. \n",
    "entry_exercise()"
   ]
  },
  {
   "cell_type": "code",
   "execution_count": null,
   "id": "748c28f6",
   "metadata": {},
   "outputs": [],
   "source": []
  }
 ],
 "metadata": {
  "kernelspec": {
   "display_name": "Python 3 (ipykernel)",
   "language": "python",
   "name": "python3"
  },
  "language_info": {
   "codemirror_mode": {
    "name": "ipython",
    "version": 3
   },
   "file_extension": ".py",
   "mimetype": "text/x-python",
   "name": "python",
   "nbconvert_exporter": "python",
   "pygments_lexer": "ipython3",
   "version": "3.9.7"
  },
  "toc": {
   "base_numbering": 1,
   "nav_menu": {},
   "number_sections": true,
   "sideBar": true,
   "skip_h1_title": false,
   "title_cell": "Table of Contents",
   "title_sidebar": "Contents",
   "toc_cell": false,
   "toc_position": {},
   "toc_section_display": true,
   "toc_window_display": false
  }
 },
 "nbformat": 4,
 "nbformat_minor": 5
}
