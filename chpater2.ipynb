{
 "cells": [
  {
   "cell_type": "markdown",
   "id": "50f89a9d",
   "metadata": {},
   "source": [
    "# 연산자를 알아봅시다.\n",
    "\n",
    ">**학습목표 :**  \n",
    "> 1.  파이썬에서 사용되는 산술 연산자를 활용할 수 있다.\n",
    "> 2.  파이썬에서 사용되는 비교 연산자를 활용할 수 있다.\n",
    "> 3.  파이썬에서 사용되는 복합 연산자를 활용할 수 있다.\n",
    "> 4.  연산자를 활용해서 문제를 해결할 수 있다.\n"
   ]
  },
  {
   "cell_type": "markdown",
   "id": "0c5a35c6",
   "metadata": {},
   "source": [
    "도입\n"
   ]
  },
  {
   "cell_type": "markdown",
   "id": "410a4c0a",
   "metadata": {},
   "source": [
    "## 산술 연산자를 알아보자.  \n",
    "### 엔트리에서\n",
    "___\n",
    "1. 소소활동1"
   ]
  },
  {
   "cell_type": "code",
   "execution_count": 1,
   "id": "81bb4e67",
   "metadata": {},
   "outputs": [],
   "source": [
    "# input을 활용한 계산기 만들기"
   ]
  },
  {
   "cell_type": "markdown",
   "id": "f4d2faef",
   "metadata": {},
   "source": [
    "### 파이썬에서\n",
    "___\n",
    "1. 사칙연산"
   ]
  },
  {
   "cell_type": "code",
   "execution_count": 2,
   "id": "9778923c",
   "metadata": {},
   "outputs": [],
   "source": [
    "# 복합 계산 하기"
   ]
  },
  {
   "cell_type": "markdown",
   "id": "731c5c11",
   "metadata": {},
   "source": [
    "2. 제곱, 나머지, 몫"
   ]
  },
  {
   "cell_type": "code",
   "execution_count": 5,
   "id": "e0ef3a3a",
   "metadata": {},
   "outputs": [],
   "source": [
    "#"
   ]
  },
  {
   "cell_type": "markdown",
   "id": "451ebd62",
   "metadata": {},
   "source": [
    "## 비교 연산자를 알아보자.  \n",
    "활동2에 대한 설명"
   ]
  },
  {
   "cell_type": "markdown",
   "id": "ad911cec",
   "metadata": {},
   "source": [
    "### 엔트리에서\n",
    "___\n",
    "1. 소소활동1 주로 엔트리  \n",
    "\n"
   ]
  },
  {
   "cell_type": "code",
   "execution_count": 3,
   "id": "768f5e98",
   "metadata": {},
   "outputs": [],
   "source": [
    "# Iframe을 활용한 엔트리 공간"
   ]
  },
  {
   "cell_type": "markdown",
   "id": "31bae8c9",
   "metadata": {},
   "source": [
    "### 파이썬에서\n",
    "___\n",
    "1. 크다, 작다"
   ]
  },
  {
   "cell_type": "code",
   "execution_count": 5,
   "id": "09314fc5",
   "metadata": {},
   "outputs": [],
   "source": [
    "# Hello Python! 을 출력해봅시다.\n"
   ]
  },
  {
   "cell_type": "markdown",
   "id": "27ad1ada",
   "metadata": {},
   "source": [
    "> 멀티미디어 자료를 추가할 때는 인용표시 후 넣기  \n",
    "멀티미디어자료 프레임 확정하기"
   ]
  },
  {
   "cell_type": "markdown",
   "id": "55ecd446",
   "metadata": {},
   "source": [
    "2. 같다, 같지 않다"
   ]
  },
  {
   "cell_type": "code",
   "execution_count": 1,
   "id": "55e27461",
   "metadata": {},
   "outputs": [],
   "source": [
    "# '안녕 파이썬', '만나서 반가워', '친하게 지내자'를 줄줄이 출력해봅시다.\n",
    "\n",
    "\n"
   ]
  },
  {
   "cell_type": "markdown",
   "id": "26da179a",
   "metadata": {},
   "source": [
    "3. 크거나 같다, 작거나 같다"
   ]
  },
  {
   "cell_type": "code",
   "execution_count": null,
   "id": "1cff606e",
   "metadata": {},
   "outputs": [],
   "source": []
  },
  {
   "cell_type": "code",
   "execution_count": 9,
   "id": "00892940",
   "metadata": {},
   "outputs": [],
   "source": [
    "# '안녕 파이썬!', '만나서 반가워', '우리 친하게 지내자'를 옆으로 이어지도록 출력해봅시다. \n"
   ]
  },
  {
   "cell_type": "markdown",
   "id": "ddebe63c",
   "metadata": {},
   "source": [
    "## 대입 연산자를 알아보자.  \n",
    "활동3에 대한 설명"
   ]
  },
  {
   "cell_type": "markdown",
   "id": "bda9cacc",
   "metadata": {},
   "source": [
    "### 엔트리에서\n",
    "___\n",
    "1. 엔트리에서 할 거 설명"
   ]
  },
  {
   "cell_type": "code",
   "execution_count": 2,
   "id": "e40b00a2",
   "metadata": {},
   "outputs": [],
   "source": [
    "# Iframe으로 엔트리 가지고 오기\n"
   ]
  },
  {
   "cell_type": "markdown",
   "id": "1e18d540",
   "metadata": {},
   "source": [
    "### 파이썬에서\n",
    "___  \n",
    "1. +=, -=  "
   ]
  },
  {
   "cell_type": "code",
   "execution_count": 4,
   "id": "399a9d33",
   "metadata": {},
   "outputs": [],
   "source": [
    "# 변수 실습하기\n"
   ]
  },
  {
   "cell_type": "markdown",
   "id": "d0cbda60",
   "metadata": {},
   "source": [
    "2. **=, /= ..."
   ]
  },
  {
   "cell_type": "code",
   "execution_count": 5,
   "id": "13df8b93",
   "metadata": {},
   "outputs": [],
   "source": [
    "# 실습하기\n"
   ]
  },
  {
   "cell_type": "markdown",
   "id": "9f7894ce",
   "metadata": {},
   "source": [
    "## 조건\n",
    "활동 4에 대한 설명"
   ]
  },
  {
   "cell_type": "markdown",
   "id": "aaa7a684",
   "metadata": {},
   "source": [
    "### if\n",
    "___\n",
    "1. 엔트리에서 할 거 설명"
   ]
  },
  {
   "cell_type": "code",
   "execution_count": 7,
   "id": "cbb4978b",
   "metadata": {},
   "outputs": [],
   "source": [
    "# iframe으로 엔트리에서 가지고 오기"
   ]
  },
  {
   "cell_type": "markdown",
   "id": "3aac863f",
   "metadata": {},
   "source": [
    "### if-else\n",
    "___\n",
    "1. 주로 파이썬에서 할 거 "
   ]
  },
  {
   "cell_type": "code",
   "execution_count": 8,
   "id": "29fd5433",
   "metadata": {},
   "outputs": [],
   "source": [
    "# 코드 실습 공간\n"
   ]
  },
  {
   "cell_type": "markdown",
   "id": "6db5f507",
   "metadata": {},
   "source": [
    "2. input()에 대해서 설명하기2..."
   ]
  },
  {
   "cell_type": "code",
   "execution_count": 9,
   "id": "e28b7b47",
   "metadata": {},
   "outputs": [],
   "source": [
    "# 코드 실습 공간\n"
   ]
  },
  {
   "cell_type": "markdown",
   "id": "9690f0f7",
   "metadata": {},
   "source": [
    "3. input()에 대해서 설명하기3 ..."
   ]
  },
  {
   "cell_type": "code",
   "execution_count": 10,
   "id": "88009736",
   "metadata": {},
   "outputs": [],
   "source": [
    "# 코드 실습 공간\n"
   ]
  },
  {
   "cell_type": "markdown",
   "id": "3aac863f",
   "metadata": {},
   "source": [
    "### if-elif\n",
    "___\n",
    "1. 주로 파이썬에서 할 거 "
   ]
  },
  {
   "cell_type": "code",
   "execution_count": 3,
   "id": "d1ce02d8",
   "metadata": {},
   "outputs": [],
   "source": [
    "# up/down 문제 만들기"
   ]
  },
  {
   "cell_type": "code",
   "execution_count": 4,
   "id": "43a2d259",
   "metadata": {},
   "outputs": [],
   "source": [
    "# up/down 문제에서 카운트 해서 몇 번만에 맞췄는지 맞추는거 만들기"
   ]
  },
  {
   "cell_type": "markdown",
   "id": "8a40e5b3",
   "metadata": {},
   "source": [
    "## 확인 문제  \n",
    "### 개념 설명\n",
    "___\n",
    "1. print() 명령어에 대한 설명으로 옳지 않은 것은? "
   ]
  },
  {
   "cell_type": "code",
   "execution_count": null,
   "id": "66700033",
   "metadata": {},
   "outputs": [],
   "source": [
    "# q1에 번호를 입력하고 코드를 실행해주세요.\n",
    "q1 = \n",
    "q1.check()"
   ]
  },
  {
   "cell_type": "markdown",
   "id": "0ec2272d",
   "metadata": {},
   "source": [
    "2. input()에 대한 설명으로 옳지 않은 것은?  \n",
    "1) \n",
    "2) \n",
    "3)\n",
    "4)\n",
    "5) ㅇㄹㄴㄹ"
   ]
  },
  {
   "cell_type": "code",
   "execution_count": null,
   "id": "ee52699a",
   "metadata": {},
   "outputs": [],
   "source": [
    "#q2에 번호를 입력하고 코드를 실행해주세요.\n",
    "q2 = \n",
    "q2.check()"
   ]
  },
  {
   "cell_type": "markdown",
   "id": "c3482a32",
   "metadata": {},
   "source": [
    "3. 변수에 대한 설명으로 옳지 않은 것은?  \n",
    "1) \n",
    "2) \n",
    "3) \n",
    "4) \n",
    "5) ㄹㄴㅇㄹㅇㄴ"
   ]
  },
  {
   "cell_type": "code",
   "execution_count": null,
   "id": "f0f071f1",
   "metadata": {},
   "outputs": [],
   "source": [
    "#q3에 번호를 입력하고 코드를 실행해주세요. \n",
    "q3 = \n",
    "q3.check()"
   ]
  },
  {
   "cell_type": "markdown",
   "id": "e64dc2a4",
   "metadata": {},
   "source": [
    "### 코드 작성\n",
    "___"
   ]
  },
  {
   "cell_type": "markdown",
   "id": "337f75e3",
   "metadata": {},
   "source": [
    "4. print()를 이용해 자기 이름을 출력해보세요."
   ]
  },
  {
   "cell_type": "code",
   "execution_count": null,
   "id": "ae9116b2",
   "metadata": {},
   "outputs": [],
   "source": []
  },
  {
   "cell_type": "code",
   "execution_count": null,
   "id": "891437ea",
   "metadata": {},
   "outputs": [],
   "source": [
    "q4.check()"
   ]
  },
  {
   "cell_type": "markdown",
   "id": "16a895ce",
   "metadata": {},
   "source": [
    "5. num 변수에 3을 입력하시오. 그리고 print()를 이용해서 num을 출력하시오."
   ]
  },
  {
   "cell_type": "code",
   "execution_count": null,
   "id": "f936aaaf",
   "metadata": {},
   "outputs": [],
   "source": []
  },
  {
   "cell_type": "code",
   "execution_count": null,
   "id": "37f2da51",
   "metadata": {},
   "outputs": [],
   "source": [
    "q5.check()"
   ]
  },
  {
   "cell_type": "markdown",
   "id": "c01576ee",
   "metadata": {},
   "source": [
    "6. input()을 이용해서 name 변수에 자기 이름을 저장하시오.  \n",
    "그 다음 print()를 이용해서 자기 이름을 출력하시오."
   ]
  },
  {
   "cell_type": "code",
   "execution_count": null,
   "id": "f794d8c2",
   "metadata": {},
   "outputs": [],
   "source": []
  },
  {
   "cell_type": "code",
   "execution_count": null,
   "id": "624d9d7e",
   "metadata": {},
   "outputs": [],
   "source": [
    "q6.check()"
   ]
  },
  {
   "cell_type": "markdown",
   "id": "120cac2b",
   "metadata": {},
   "source": [
    "- 단원명 : #  \n",
    "- 단원명 아래 학습 목표 적기, 학습 목표는 > 인용표시 사용 \n",
    "- 활동1,2,3,4 는 ##  \n",
    "- 활동1에서 소활동1,2,3은 ### << 주로 엔트리 / 파이썬 구분>>  \n",
    "- 소활동1,2,3 아래에 ___ 로 선으로 구분해주기\n",
    "- 소활동에서 또다시 소소활동은 1. 2. 3. ... 이렇게  \n",
    "- 소소활동에 1. 설명(마크다운)이 나오고 그 아래에는 파이썬 실습 공간 구성  \n",
    "- 멀티미디어 > 인용표시 후 나오기\n",
    "- 맨 아래에 확인문제 ##  \n",
    "- 확인문제 아래 개념문제 ### / 코드문제 ### 으로 나뉨  \n",
    "- 개념문제는 마크다운으로 출제하고 소스코드에 q1 = 객관식 답 , q1.check() 이렇게 정답 확인하기  \n",
    "- 코드문제는 마크다운으로 출제(결과 보여주고 코드 작성하기 또는 설명하고 코드 작성하기)  \n",
    "- 코드문제 설명 아래에 2개의 코드 / 1코드는 직접 작성하는 코드, 2코드는 답 보여주는 코드q2.check()  q2.hint() "
   ]
  },
  {
   "cell_type": "markdown",
   "id": "ab73fc7b",
   "metadata": {},
   "source": []
  }
 ],
 "metadata": {
  "kernelspec": {
   "display_name": "Python 3 (ipykernel)",
   "language": "python",
   "name": "python3"
  },
  "language_info": {
   "codemirror_mode": {
    "name": "ipython",
    "version": 3
   },
   "file_extension": ".py",
   "mimetype": "text/x-python",
   "name": "python",
   "nbconvert_exporter": "python",
   "pygments_lexer": "ipython3",
   "version": "3.8.9"
  },
  "toc": {
   "base_numbering": 1,
   "nav_menu": {},
   "number_sections": true,
   "sideBar": true,
   "skip_h1_title": false,
   "title_cell": "Table of Contents",
   "title_sidebar": "Contents",
   "toc_cell": false,
   "toc_position": {},
   "toc_section_display": true,
   "toc_window_display": false
  }
 },
 "nbformat": 4,
 "nbformat_minor": 5
}
